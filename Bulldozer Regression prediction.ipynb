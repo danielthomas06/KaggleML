{
 "cells": [
  {
   "cell_type": "markdown",
   "id": "b4311672",
   "metadata": {},
   "source": [
    "## Predicting the Sale Price of Bull Dozers\n",
    "\n",
    "Example of Regression problem to determine the sale price of bulldozer using Machine Learning.\n"
   ]
  },
  {
   "cell_type": "markdown",
   "id": "7ae3a59f",
   "metadata": {},
   "source": [
    "### Problem Definition\n",
    "\n",
    "Here in this problem, we will trying to predict the Sale Price of BullDozers by studying previous data and features.\n",
    "This is a example of Regression Machine learning problem."
   ]
  },
  {
   "cell_type": "markdown",
   "id": "541309e1",
   "metadata": {},
   "source": [
    "### Data\n",
    "\n",
    "Data is downloaded from Kaggle BullDozer competition.\n",
    "https://www.kaggle.com/c/bluebook-for-bulldozers/data\n",
    "\n",
    "There are 3 datasets:\n",
    "\n",
    "   * Train.csv - Historical bulldozer sales examples up to 2011 (close to 400,000 examples with 50+ different attributes, including SalePrice which is the target variable).\n",
    "   \n",
    "   * Valid.csv - Historical bulldozer sales examples from January 1 2012 to April 30 2012 (close to 12,000 examples with the same attributes as Train.csv).\n",
    "    \n",
    "   * Test.csv - Historical bulldozer sales examples from May 1 2012 to November 2012 (close to 12,000 examples but missing the SalePrice attribute, as this is what we'll be trying to predict)."
   ]
  },
  {
   "cell_type": "markdown",
   "id": "794c8d11",
   "metadata": {},
   "source": [
    "### Evaluation\n",
    "\n",
    "For this problem, Kaggle has set the evaluation metric to being root mean squared log error (RMSLE). As with many regression evaluations, the goal will be to get this value as low as possible."
   ]
  },
  {
   "cell_type": "markdown",
   "id": "709b0d9f",
   "metadata": {},
   "source": [
    "### 4. Features\n",
    "\n",
    "For this dataset, Kaggle provide a data dictionary which contains information about what each attribute of the dataset means. You can download this file directly from the Kaggle competition page (account required) or view it on Google Sheets.\n",
    "\n",
    "https://www.kaggle.com/c/bluebook-for-bulldozers/download/Bnl6RAHA0enbg0UfAvGA%2Fversions%2FwBG4f35Q8mAbfkzwCeZn%2Ffiles%2FData%20Dictionary.xlsx"
   ]
  },
  {
   "cell_type": "markdown",
   "id": "4edf9320",
   "metadata": {},
   "source": [
    "### Importing the data and prepare the model"
   ]
  },
  {
   "cell_type": "code",
   "execution_count": 1,
   "id": "2f1782d9",
   "metadata": {},
   "outputs": [],
   "source": [
    "#Import machine learning tools\n",
    "import numpy as np\n",
    "import pandas as pd\n",
    "import matplotlib.pyplot as plt"
   ]
  },
  {
   "cell_type": "code",
   "execution_count": 2,
   "id": "a7ce7d82",
   "metadata": {},
   "outputs": [
    {
     "name": "stderr",
     "output_type": "stream",
     "text": [
      "C:\\Users\\jgabr\\sample_project\\env\\lib\\site-packages\\IPython\\core\\interactiveshell.py:3437: DtypeWarning: Columns (13,39,40,41) have mixed types.Specify dtype option on import or set low_memory=False.\n",
      "  exec(code_obj, self.user_global_ns, self.user_ns)\n"
     ]
    }
   ],
   "source": [
    "#Import the training and validation dataset\n",
    "df = pd.read_csv(\"bluebook-for-bulldozers/Trainandvalid.csv\")"
   ]
  },
  {
   "cell_type": "code",
   "execution_count": 3,
   "id": "2842e526",
   "metadata": {},
   "outputs": [
    {
     "data": {
      "text/html": [
       "<div>\n",
       "<style scoped>\n",
       "    .dataframe tbody tr th:only-of-type {\n",
       "        vertical-align: middle;\n",
       "    }\n",
       "\n",
       "    .dataframe tbody tr th {\n",
       "        vertical-align: top;\n",
       "    }\n",
       "\n",
       "    .dataframe thead th {\n",
       "        text-align: right;\n",
       "    }\n",
       "</style>\n",
       "<table border=\"1\" class=\"dataframe\">\n",
       "  <thead>\n",
       "    <tr style=\"text-align: right;\">\n",
       "      <th></th>\n",
       "      <th>SalesID</th>\n",
       "      <th>SalePrice</th>\n",
       "      <th>MachineID</th>\n",
       "      <th>ModelID</th>\n",
       "      <th>datasource</th>\n",
       "      <th>auctioneerID</th>\n",
       "      <th>YearMade</th>\n",
       "      <th>MachineHoursCurrentMeter</th>\n",
       "      <th>UsageBand</th>\n",
       "      <th>saledate</th>\n",
       "      <th>...</th>\n",
       "      <th>Undercarriage_Pad_Width</th>\n",
       "      <th>Stick_Length</th>\n",
       "      <th>Thumb</th>\n",
       "      <th>Pattern_Changer</th>\n",
       "      <th>Grouser_Type</th>\n",
       "      <th>Backhoe_Mounting</th>\n",
       "      <th>Blade_Type</th>\n",
       "      <th>Travel_Controls</th>\n",
       "      <th>Differential_Type</th>\n",
       "      <th>Steering_Controls</th>\n",
       "    </tr>\n",
       "  </thead>\n",
       "  <tbody>\n",
       "    <tr>\n",
       "      <th>0</th>\n",
       "      <td>1139246</td>\n",
       "      <td>66000.0</td>\n",
       "      <td>999089</td>\n",
       "      <td>3157</td>\n",
       "      <td>121</td>\n",
       "      <td>3.0</td>\n",
       "      <td>2004</td>\n",
       "      <td>68.0</td>\n",
       "      <td>Low</td>\n",
       "      <td>11/16/2006 0:00</td>\n",
       "      <td>...</td>\n",
       "      <td>NaN</td>\n",
       "      <td>NaN</td>\n",
       "      <td>NaN</td>\n",
       "      <td>NaN</td>\n",
       "      <td>NaN</td>\n",
       "      <td>NaN</td>\n",
       "      <td>NaN</td>\n",
       "      <td>NaN</td>\n",
       "      <td>Standard</td>\n",
       "      <td>Conventional</td>\n",
       "    </tr>\n",
       "    <tr>\n",
       "      <th>1</th>\n",
       "      <td>1139248</td>\n",
       "      <td>57000.0</td>\n",
       "      <td>117657</td>\n",
       "      <td>77</td>\n",
       "      <td>121</td>\n",
       "      <td>3.0</td>\n",
       "      <td>1996</td>\n",
       "      <td>4640.0</td>\n",
       "      <td>Low</td>\n",
       "      <td>3/26/2004 0:00</td>\n",
       "      <td>...</td>\n",
       "      <td>NaN</td>\n",
       "      <td>NaN</td>\n",
       "      <td>NaN</td>\n",
       "      <td>NaN</td>\n",
       "      <td>NaN</td>\n",
       "      <td>NaN</td>\n",
       "      <td>NaN</td>\n",
       "      <td>NaN</td>\n",
       "      <td>Standard</td>\n",
       "      <td>Conventional</td>\n",
       "    </tr>\n",
       "    <tr>\n",
       "      <th>2</th>\n",
       "      <td>1139249</td>\n",
       "      <td>10000.0</td>\n",
       "      <td>434808</td>\n",
       "      <td>7009</td>\n",
       "      <td>121</td>\n",
       "      <td>3.0</td>\n",
       "      <td>2001</td>\n",
       "      <td>2838.0</td>\n",
       "      <td>High</td>\n",
       "      <td>2/26/2004 0:00</td>\n",
       "      <td>...</td>\n",
       "      <td>NaN</td>\n",
       "      <td>NaN</td>\n",
       "      <td>NaN</td>\n",
       "      <td>NaN</td>\n",
       "      <td>NaN</td>\n",
       "      <td>NaN</td>\n",
       "      <td>NaN</td>\n",
       "      <td>NaN</td>\n",
       "      <td>NaN</td>\n",
       "      <td>NaN</td>\n",
       "    </tr>\n",
       "    <tr>\n",
       "      <th>3</th>\n",
       "      <td>1139251</td>\n",
       "      <td>38500.0</td>\n",
       "      <td>1026470</td>\n",
       "      <td>332</td>\n",
       "      <td>121</td>\n",
       "      <td>3.0</td>\n",
       "      <td>2001</td>\n",
       "      <td>3486.0</td>\n",
       "      <td>High</td>\n",
       "      <td>5/19/2011 0:00</td>\n",
       "      <td>...</td>\n",
       "      <td>NaN</td>\n",
       "      <td>NaN</td>\n",
       "      <td>NaN</td>\n",
       "      <td>NaN</td>\n",
       "      <td>NaN</td>\n",
       "      <td>NaN</td>\n",
       "      <td>NaN</td>\n",
       "      <td>NaN</td>\n",
       "      <td>NaN</td>\n",
       "      <td>NaN</td>\n",
       "    </tr>\n",
       "    <tr>\n",
       "      <th>4</th>\n",
       "      <td>1139253</td>\n",
       "      <td>11000.0</td>\n",
       "      <td>1057373</td>\n",
       "      <td>17311</td>\n",
       "      <td>121</td>\n",
       "      <td>3.0</td>\n",
       "      <td>2007</td>\n",
       "      <td>722.0</td>\n",
       "      <td>Medium</td>\n",
       "      <td>7/23/2009 0:00</td>\n",
       "      <td>...</td>\n",
       "      <td>NaN</td>\n",
       "      <td>NaN</td>\n",
       "      <td>NaN</td>\n",
       "      <td>NaN</td>\n",
       "      <td>NaN</td>\n",
       "      <td>NaN</td>\n",
       "      <td>NaN</td>\n",
       "      <td>NaN</td>\n",
       "      <td>NaN</td>\n",
       "      <td>NaN</td>\n",
       "    </tr>\n",
       "  </tbody>\n",
       "</table>\n",
       "<p>5 rows × 53 columns</p>\n",
       "</div>"
      ],
      "text/plain": [
       "   SalesID  SalePrice  MachineID  ModelID  datasource  auctioneerID  YearMade  \\\n",
       "0  1139246    66000.0     999089     3157         121           3.0      2004   \n",
       "1  1139248    57000.0     117657       77         121           3.0      1996   \n",
       "2  1139249    10000.0     434808     7009         121           3.0      2001   \n",
       "3  1139251    38500.0    1026470      332         121           3.0      2001   \n",
       "4  1139253    11000.0    1057373    17311         121           3.0      2007   \n",
       "\n",
       "   MachineHoursCurrentMeter UsageBand         saledate  ...  \\\n",
       "0                      68.0       Low  11/16/2006 0:00  ...   \n",
       "1                    4640.0       Low   3/26/2004 0:00  ...   \n",
       "2                    2838.0      High   2/26/2004 0:00  ...   \n",
       "3                    3486.0      High   5/19/2011 0:00  ...   \n",
       "4                     722.0    Medium   7/23/2009 0:00  ...   \n",
       "\n",
       "  Undercarriage_Pad_Width Stick_Length Thumb Pattern_Changer Grouser_Type  \\\n",
       "0                     NaN          NaN   NaN             NaN          NaN   \n",
       "1                     NaN          NaN   NaN             NaN          NaN   \n",
       "2                     NaN          NaN   NaN             NaN          NaN   \n",
       "3                     NaN          NaN   NaN             NaN          NaN   \n",
       "4                     NaN          NaN   NaN             NaN          NaN   \n",
       "\n",
       "  Backhoe_Mounting Blade_Type Travel_Controls Differential_Type  \\\n",
       "0              NaN        NaN             NaN          Standard   \n",
       "1              NaN        NaN             NaN          Standard   \n",
       "2              NaN        NaN             NaN               NaN   \n",
       "3              NaN        NaN             NaN               NaN   \n",
       "4              NaN        NaN             NaN               NaN   \n",
       "\n",
       "  Steering_Controls  \n",
       "0      Conventional  \n",
       "1      Conventional  \n",
       "2               NaN  \n",
       "3               NaN  \n",
       "4               NaN  \n",
       "\n",
       "[5 rows x 53 columns]"
      ]
     },
     "execution_count": 3,
     "metadata": {},
     "output_type": "execute_result"
    }
   ],
   "source": [
    "df.head(5)"
   ]
  },
  {
   "cell_type": "code",
   "execution_count": 4,
   "id": "c0bf3877",
   "metadata": {},
   "outputs": [
    {
     "name": "stdout",
     "output_type": "stream",
     "text": [
      "<class 'pandas.core.frame.DataFrame'>\n",
      "RangeIndex: 412698 entries, 0 to 412697\n",
      "Data columns (total 53 columns):\n",
      " #   Column                    Non-Null Count   Dtype  \n",
      "---  ------                    --------------   -----  \n",
      " 0   SalesID                   412698 non-null  int64  \n",
      " 1   SalePrice                 412698 non-null  float64\n",
      " 2   MachineID                 412698 non-null  int64  \n",
      " 3   ModelID                   412698 non-null  int64  \n",
      " 4   datasource                412698 non-null  int64  \n",
      " 5   auctioneerID              392562 non-null  float64\n",
      " 6   YearMade                  412698 non-null  int64  \n",
      " 7   MachineHoursCurrentMeter  147504 non-null  float64\n",
      " 8   UsageBand                 73670 non-null   object \n",
      " 9   saledate                  412698 non-null  object \n",
      " 10  fiModelDesc               412698 non-null  object \n",
      " 11  fiBaseModel               412698 non-null  object \n",
      " 12  fiSecondaryDesc           271971 non-null  object \n",
      " 13  fiModelSeries             58667 non-null   object \n",
      " 14  fiModelDescriptor         74816 non-null   object \n",
      " 15  ProductSize               196093 non-null  object \n",
      " 16  fiProductClassDesc        412698 non-null  object \n",
      " 17  state                     412698 non-null  object \n",
      " 18  ProductGroup              412698 non-null  object \n",
      " 19  ProductGroupDesc          412698 non-null  object \n",
      " 20  Drive_System              107087 non-null  object \n",
      " 21  Enclosure                 412364 non-null  object \n",
      " 22  Forks                     197715 non-null  object \n",
      " 23  Pad_Type                  81096 non-null   object \n",
      " 24  Ride_Control              152728 non-null  object \n",
      " 25  Stick                     81096 non-null   object \n",
      " 26  Transmission              188007 non-null  object \n",
      " 27  Turbocharged              81096 non-null   object \n",
      " 28  Blade_Extension           25983 non-null   object \n",
      " 29  Blade_Width               25983 non-null   object \n",
      " 30  Enclosure_Type            25983 non-null   object \n",
      " 31  Engine_Horsepower         25983 non-null   object \n",
      " 32  Hydraulics                330133 non-null  object \n",
      " 33  Pushblock                 25983 non-null   object \n",
      " 34  Ripper                    106945 non-null  object \n",
      " 35  Scarifier                 25994 non-null   object \n",
      " 36  Tip_Control               25983 non-null   object \n",
      " 37  Tire_Size                 97638 non-null   object \n",
      " 38  Coupler                   220679 non-null  object \n",
      " 39  Coupler_System            44974 non-null   object \n",
      " 40  Grouser_Tracks            44875 non-null   object \n",
      " 41  Hydraulics_Flow           44875 non-null   object \n",
      " 42  Track_Type                102193 non-null  object \n",
      " 43  Undercarriage_Pad_Width   102916 non-null  object \n",
      " 44  Stick_Length              102261 non-null  object \n",
      " 45  Thumb                     102332 non-null  object \n",
      " 46  Pattern_Changer           102261 non-null  object \n",
      " 47  Grouser_Type              102193 non-null  object \n",
      " 48  Backhoe_Mounting          80712 non-null   object \n",
      " 49  Blade_Type                81875 non-null   object \n",
      " 50  Travel_Controls           81877 non-null   object \n",
      " 51  Differential_Type         71564 non-null   object \n",
      " 52  Steering_Controls         71522 non-null   object \n",
      "dtypes: float64(3), int64(5), object(45)\n",
      "memory usage: 166.9+ MB\n"
     ]
    }
   ],
   "source": [
    "df.info()"
   ]
  },
  {
   "cell_type": "code",
   "execution_count": 5,
   "id": "fa6442e0",
   "metadata": {},
   "outputs": [
    {
     "data": {
      "text/plain": [
       "<matplotlib.collections.PathCollection at 0x18600070d30>"
      ]
     },
     "execution_count": 5,
     "metadata": {},
     "output_type": "execute_result"
    },
    {
     "data": {
      "image/png": "[encoded data removed]",
      "text/plain": [
       "<Figure size 1080x576 with 1 Axes>"
      ]
     },
     "metadata": {
      "needs_background": "light"
     },
     "output_type": "display_data"
    }
   ],
   "source": [
    "plt.figure(figsize=(15,8))\n",
    "\n",
    "plt.scatter(df[\"saledate\"][:1000], df[\"SalePrice\"][:1000])"
   ]
  },
  {
   "cell_type": "code",
   "execution_count": 6,
   "id": "afa89647",
   "metadata": {},
   "outputs": [
    {
     "data": {
      "text/plain": [
       "<AxesSubplot:ylabel='Frequency'>"
      ]
     },
     "execution_count": 6,
     "metadata": {},
     "output_type": "execute_result"
    },
    {
     "data": {
      "image/png": "[encoded data removed]",
      "text/plain": [
       "<Figure size 432x288 with 1 Axes>"
      ]
     },
     "metadata": {
      "needs_background": "light"
     },
     "output_type": "display_data"
    }
   ],
   "source": [
    "df.SalePrice.plot.hist()"
   ]
  },
  {
   "cell_type": "markdown",
   "id": "b1eac438",
   "metadata": {},
   "source": [
    "### Parsing Dates\n",
    "\n",
    "Good thing to make sure date is in datetime object."
   ]
  },
  {
   "cell_type": "code",
   "execution_count": 7,
   "id": "47aecfc0",
   "metadata": {},
   "outputs": [
    {
     "data": {
      "text/html": [
       "<div>\n",
       "<style scoped>\n",
       "    .dataframe tbody tr th:only-of-type {\n",
       "        vertical-align: middle;\n",
       "    }\n",
       "\n",
       "    .dataframe tbody tr th {\n",
       "        vertical-align: top;\n",
       "    }\n",
       "\n",
       "    .dataframe thead th {\n",
       "        text-align: right;\n",
       "    }\n",
       "</style>\n",
       "<table border=\"1\" class=\"dataframe\">\n",
       "  <thead>\n",
       "    <tr style=\"text-align: right;\">\n",
       "      <th></th>\n",
       "      <th>SalesID</th>\n",
       "      <th>SalePrice</th>\n",
       "      <th>MachineID</th>\n",
       "      <th>ModelID</th>\n",
       "      <th>datasource</th>\n",
       "      <th>auctioneerID</th>\n",
       "      <th>YearMade</th>\n",
       "      <th>MachineHoursCurrentMeter</th>\n",
       "      <th>UsageBand</th>\n",
       "      <th>saledate</th>\n",
       "      <th>...</th>\n",
       "      <th>Undercarriage_Pad_Width</th>\n",
       "      <th>Stick_Length</th>\n",
       "      <th>Thumb</th>\n",
       "      <th>Pattern_Changer</th>\n",
       "      <th>Grouser_Type</th>\n",
       "      <th>Backhoe_Mounting</th>\n",
       "      <th>Blade_Type</th>\n",
       "      <th>Travel_Controls</th>\n",
       "      <th>Differential_Type</th>\n",
       "      <th>Steering_Controls</th>\n",
       "    </tr>\n",
       "  </thead>\n",
       "  <tbody>\n",
       "    <tr>\n",
       "      <th>0</th>\n",
       "      <td>1139246</td>\n",
       "      <td>66000.0</td>\n",
       "      <td>999089</td>\n",
       "      <td>3157</td>\n",
       "      <td>121</td>\n",
       "      <td>3.0</td>\n",
       "      <td>2004</td>\n",
       "      <td>68.0</td>\n",
       "      <td>Low</td>\n",
       "      <td>2006-11-16</td>\n",
       "      <td>...</td>\n",
       "      <td>NaN</td>\n",
       "      <td>NaN</td>\n",
       "      <td>NaN</td>\n",
       "      <td>NaN</td>\n",
       "      <td>NaN</td>\n",
       "      <td>NaN</td>\n",
       "      <td>NaN</td>\n",
       "      <td>NaN</td>\n",
       "      <td>Standard</td>\n",
       "      <td>Conventional</td>\n",
       "    </tr>\n",
       "    <tr>\n",
       "      <th>1</th>\n",
       "      <td>1139248</td>\n",
       "      <td>57000.0</td>\n",
       "      <td>117657</td>\n",
       "      <td>77</td>\n",
       "      <td>121</td>\n",
       "      <td>3.0</td>\n",
       "      <td>1996</td>\n",
       "      <td>4640.0</td>\n",
       "      <td>Low</td>\n",
       "      <td>2004-03-26</td>\n",
       "      <td>...</td>\n",
       "      <td>NaN</td>\n",
       "      <td>NaN</td>\n",
       "      <td>NaN</td>\n",
       "      <td>NaN</td>\n",
       "      <td>NaN</td>\n",
       "      <td>NaN</td>\n",
       "      <td>NaN</td>\n",
       "      <td>NaN</td>\n",
       "      <td>Standard</td>\n",
       "      <td>Conventional</td>\n",
       "    </tr>\n",
       "    <tr>\n",
       "      <th>2</th>\n",
       "      <td>1139249</td>\n",
       "      <td>10000.0</td>\n",
       "      <td>434808</td>\n",
       "      <td>7009</td>\n",
       "      <td>121</td>\n",
       "      <td>3.0</td>\n",
       "      <td>2001</td>\n",
       "      <td>2838.0</td>\n",
       "      <td>High</td>\n",
       "      <td>2004-02-26</td>\n",
       "      <td>...</td>\n",
       "      <td>NaN</td>\n",
       "      <td>NaN</td>\n",
       "      <td>NaN</td>\n",
       "      <td>NaN</td>\n",
       "      <td>NaN</td>\n",
       "      <td>NaN</td>\n",
       "      <td>NaN</td>\n",
       "      <td>NaN</td>\n",
       "      <td>NaN</td>\n",
       "      <td>NaN</td>\n",
       "    </tr>\n",
       "  </tbody>\n",
       "</table>\n",
       "<p>3 rows × 53 columns</p>\n",
       "</div>"
      ],
      "text/plain": [
       "   SalesID  SalePrice  MachineID  ModelID  datasource  auctioneerID  YearMade  \\\n",
       "0  1139246    66000.0     999089     3157         121           3.0      2004   \n",
       "1  1139248    57000.0     117657       77         121           3.0      1996   \n",
       "2  1139249    10000.0     434808     7009         121           3.0      2001   \n",
       "\n",
       "   MachineHoursCurrentMeter UsageBand   saledate  ... Undercarriage_Pad_Width  \\\n",
       "0                      68.0       Low 2006-11-16  ...                     NaN   \n",
       "1                    4640.0       Low 2004-03-26  ...                     NaN   \n",
       "2                    2838.0      High 2004-02-26  ...                     NaN   \n",
       "\n",
       "  Stick_Length Thumb Pattern_Changer Grouser_Type Backhoe_Mounting Blade_Type  \\\n",
       "0          NaN   NaN             NaN          NaN              NaN        NaN   \n",
       "1          NaN   NaN             NaN          NaN              NaN        NaN   \n",
       "2          NaN   NaN             NaN          NaN              NaN        NaN   \n",
       "\n",
       "  Travel_Controls Differential_Type Steering_Controls  \n",
       "0             NaN          Standard      Conventional  \n",
       "1             NaN          Standard      Conventional  \n",
       "2             NaN               NaN               NaN  \n",
       "\n",
       "[3 rows x 53 columns]"
      ]
     },
     "execution_count": 7,
     "metadata": {},
     "output_type": "execute_result"
    }
   ],
   "source": [
    "df = pd.read_csv(\"bluebook-for-bulldozers/TrainandValid.csv\", low_memory=False,\n",
    "                parse_dates=['saledate'])\n",
    "df.head(3)"
   ]
  },
  {
   "cell_type": "code",
   "execution_count": 8,
   "id": "df9c6149",
   "metadata": {},
   "outputs": [
    {
     "name": "stdout",
     "output_type": "stream",
     "text": [
      "<class 'pandas.core.frame.DataFrame'>\n",
      "RangeIndex: 412698 entries, 0 to 412697\n",
      "Data columns (total 53 columns):\n",
      " #   Column                    Non-Null Count   Dtype         \n",
      "---  ------                    --------------   -----         \n",
      " 0   SalesID                   412698 non-null  int64         \n",
      " 1   SalePrice                 412698 non-null  float64       \n",
      " 2   MachineID                 412698 non-null  int64         \n",
      " 3   ModelID                   412698 non-null  int64         \n",
      " 4   datasource                412698 non-null  int64         \n",
      " 5   auctioneerID              392562 non-null  float64       \n",
      " 6   YearMade                  412698 non-null  int64         \n",
      " 7   MachineHoursCurrentMeter  147504 non-null  float64       \n",
      " 8   UsageBand                 73670 non-null   object        \n",
      " 9   saledate                  412698 non-null  datetime64[ns]\n",
      " 10  fiModelDesc               412698 non-null  object        \n",
      " 11  fiBaseModel               412698 non-null  object        \n",
      " 12  fiSecondaryDesc           271971 non-null  object        \n",
      " 13  fiModelSeries             58667 non-null   object        \n",
      " 14  fiModelDescriptor         74816 non-null   object        \n",
      " 15  ProductSize               196093 non-null  object        \n",
      " 16  fiProductClassDesc        412698 non-null  object        \n",
      " 17  state                     412698 non-null  object        \n",
      " 18  ProductGroup              412698 non-null  object        \n",
      " 19  ProductGroupDesc          412698 non-null  object        \n",
      " 20  Drive_System              107087 non-null  object        \n",
      " 21  Enclosure                 412364 non-null  object        \n",
      " 22  Forks                     197715 non-null  object        \n",
      " 23  Pad_Type                  81096 non-null   object        \n",
      " 24  Ride_Control              152728 non-null  object        \n",
      " 25  Stick                     81096 non-null   object        \n",
      " 26  Transmission              188007 non-null  object        \n",
      " 27  Turbocharged              81096 non-null   object        \n",
      " 28  Blade_Extension           25983 non-null   object        \n",
      " 29  Blade_Width               25983 non-null   object        \n",
      " 30  Enclosure_Type            25983 non-null   object        \n",
      " 31  Engine_Horsepower         25983 non-null   object        \n",
      " 32  Hydraulics                330133 non-null  object        \n",
      " 33  Pushblock                 25983 non-null   object        \n",
      " 34  Ripper                    106945 non-null  object        \n",
      " 35  Scarifier                 25994 non-null   object        \n",
      " 36  Tip_Control               25983 non-null   object        \n",
      " 37  Tire_Size                 97638 non-null   object        \n",
      " 38  Coupler                   220679 non-null  object        \n",
      " 39  Coupler_System            44974 non-null   object        \n",
      " 40  Grouser_Tracks            44875 non-null   object        \n",
      " 41  Hydraulics_Flow           44875 non-null   object        \n",
      " 42  Track_Type                102193 non-null  object        \n",
      " 43  Undercarriage_Pad_Width   102916 non-null  object        \n",
      " 44  Stick_Length              102261 non-null  object        \n",
      " 45  Thumb                     102332 non-null  object        \n",
      " 46  Pattern_Changer           102261 non-null  object        \n",
      " 47  Grouser_Type              102193 non-null  object        \n",
      " 48  Backhoe_Mounting          80712 non-null   object        \n",
      " 49  Blade_Type                81875 non-null   object        \n",
      " 50  Travel_Controls           81877 non-null   object        \n",
      " 51  Differential_Type         71564 non-null   object        \n",
      " 52  Steering_Controls         71522 non-null   object        \n",
      "dtypes: datetime64[ns](1), float64(3), int64(5), object(44)\n",
      "memory usage: 166.9+ MB\n"
     ]
    }
   ],
   "source": [
    "df.info()"
   ]
  },
  {
   "cell_type": "markdown",
   "id": "0501204d",
   "metadata": {},
   "source": [
    "Now saledate column is read as a datetime object"
   ]
  },
  {
   "cell_type": "code",
   "execution_count": 9,
   "id": "c1248d07",
   "metadata": {},
   "outputs": [
    {
     "data": {
      "text/plain": [
       "<matplotlib.collections.PathCollection at 0x18600e34940>"
      ]
     },
     "execution_count": 9,
     "metadata": {},
     "output_type": "execute_result"
    },
    {
     "data": {
      "image/png": "[encoded data removed]",
      "text/plain": [
       "<Figure size 720x576 with 1 Axes>"
      ]
     },
     "metadata": {
      "needs_background": "light"
     },
     "output_type": "display_data"
    }
   ],
   "source": [
    "plt.figure(figsize=(10,8))\n",
    "plt.scatter(df.saledate[:1000], df.SalePrice[:1000],)"
   ]
  },
  {
   "cell_type": "markdown",
   "id": "58502ad2",
   "metadata": {},
   "source": [
    "### Sort DataFrame by SaleDate\n"
   ]
  },
  {
   "cell_type": "code",
   "execution_count": 10,
   "id": "d7191b53",
   "metadata": {},
   "outputs": [
    {
     "data": {
      "text/plain": [
       "205615   1989-01-17\n",
       "274835   1989-01-31\n",
       "141296   1989-01-31\n",
       "212552   1989-01-31\n",
       "62755    1989-01-31\n",
       "54653    1989-01-31\n",
       "81383    1989-01-31\n",
       "204924   1989-01-31\n",
       "135376   1989-01-31\n",
       "113390   1989-01-31\n",
       "113394   1989-01-31\n",
       "116419   1989-01-31\n",
       "32138    1989-01-31\n",
       "127610   1989-01-31\n",
       "76171    1989-01-31\n",
       "Name: saledate, dtype: datetime64[ns]"
      ]
     },
     "execution_count": 10,
     "metadata": {},
     "output_type": "execute_result"
    }
   ],
   "source": [
    "# SOrt DataFrame in date order\n",
    "df.sort_values(by=[\"saledate\"], inplace=True, ascending=True)\n",
    "df[\"saledate\"].head(15)"
   ]
  },
  {
   "cell_type": "code",
   "execution_count": 11,
   "id": "6f5fd775",
   "metadata": {},
   "outputs": [],
   "source": [
    "# Make a copy df to perform edits\n",
    "df_temp = df.copy()"
   ]
  },
  {
   "cell_type": "code",
   "execution_count": 12,
   "id": "4d7631b9",
   "metadata": {},
   "outputs": [],
   "source": [
    "# Add datetime parameters for Saledate\n",
    "df_temp[\"SaleYear\"] = df_temp[\"saledate\"].dt.year\n",
    "df_temp[\"SaleMonth\"] = df_temp[\"saledate\"].dt.month\n",
    "df_temp[\"SaleDay\"] = df_temp[\"saledate\"].dt.day\n",
    "df_temp[\"Saledayofweek\"] = df_temp[\"saledate\"].dt.dayofweek\n",
    "df_temp[\"Saledayofyear\"] = df_temp[\"saledate\"].dt.dayofyear\n",
    "\n",
    "#Drop original saledate\n",
    "df_temp.drop(\"saledate\", axis=1, inplace=True)\n"
   ]
  },
  {
   "cell_type": "code",
   "execution_count": 13,
   "id": "56a30d44",
   "metadata": {},
   "outputs": [
    {
     "data": {
      "text/html": [
       "<div>\n",
       "<style scoped>\n",
       "    .dataframe tbody tr th:only-of-type {\n",
       "        vertical-align: middle;\n",
       "    }\n",
       "\n",
       "    .dataframe tbody tr th {\n",
       "        vertical-align: top;\n",
       "    }\n",
       "\n",
       "    .dataframe thead th {\n",
       "        text-align: right;\n",
       "    }\n",
       "</style>\n",
       "<table border=\"1\" class=\"dataframe\">\n",
       "  <thead>\n",
       "    <tr style=\"text-align: right;\">\n",
       "      <th></th>\n",
       "      <th>SalesID</th>\n",
       "      <th>SalePrice</th>\n",
       "      <th>MachineID</th>\n",
       "      <th>ModelID</th>\n",
       "      <th>datasource</th>\n",
       "      <th>auctioneerID</th>\n",
       "      <th>YearMade</th>\n",
       "      <th>MachineHoursCurrentMeter</th>\n",
       "      <th>UsageBand</th>\n",
       "      <th>fiModelDesc</th>\n",
       "      <th>...</th>\n",
       "      <th>Backhoe_Mounting</th>\n",
       "      <th>Blade_Type</th>\n",
       "      <th>Travel_Controls</th>\n",
       "      <th>Differential_Type</th>\n",
       "      <th>Steering_Controls</th>\n",
       "      <th>SaleYear</th>\n",
       "      <th>SaleMonth</th>\n",
       "      <th>SaleDay</th>\n",
       "      <th>Saledayofweek</th>\n",
       "      <th>Saledayofyear</th>\n",
       "    </tr>\n",
       "  </thead>\n",
       "  <tbody>\n",
       "    <tr>\n",
       "      <th>205615</th>\n",
       "      <td>1646770</td>\n",
       "      <td>9500.0</td>\n",
       "      <td>1126363</td>\n",
       "      <td>8434</td>\n",
       "      <td>132</td>\n",
       "      <td>18.0</td>\n",
       "      <td>1974</td>\n",
       "      <td>NaN</td>\n",
       "      <td>NaN</td>\n",
       "      <td>TD20</td>\n",
       "      <td>...</td>\n",
       "      <td>None or Unspecified</td>\n",
       "      <td>Straight</td>\n",
       "      <td>None or Unspecified</td>\n",
       "      <td>NaN</td>\n",
       "      <td>NaN</td>\n",
       "      <td>1989</td>\n",
       "      <td>1</td>\n",
       "      <td>17</td>\n",
       "      <td>1</td>\n",
       "      <td>17</td>\n",
       "    </tr>\n",
       "    <tr>\n",
       "      <th>274835</th>\n",
       "      <td>1821514</td>\n",
       "      <td>14000.0</td>\n",
       "      <td>1194089</td>\n",
       "      <td>10150</td>\n",
       "      <td>132</td>\n",
       "      <td>99.0</td>\n",
       "      <td>1980</td>\n",
       "      <td>NaN</td>\n",
       "      <td>NaN</td>\n",
       "      <td>A66</td>\n",
       "      <td>...</td>\n",
       "      <td>NaN</td>\n",
       "      <td>NaN</td>\n",
       "      <td>NaN</td>\n",
       "      <td>Standard</td>\n",
       "      <td>Conventional</td>\n",
       "      <td>1989</td>\n",
       "      <td>1</td>\n",
       "      <td>31</td>\n",
       "      <td>1</td>\n",
       "      <td>31</td>\n",
       "    </tr>\n",
       "    <tr>\n",
       "      <th>141296</th>\n",
       "      <td>1505138</td>\n",
       "      <td>50000.0</td>\n",
       "      <td>1473654</td>\n",
       "      <td>4139</td>\n",
       "      <td>132</td>\n",
       "      <td>99.0</td>\n",
       "      <td>1978</td>\n",
       "      <td>NaN</td>\n",
       "      <td>NaN</td>\n",
       "      <td>D7G</td>\n",
       "      <td>...</td>\n",
       "      <td>None or Unspecified</td>\n",
       "      <td>Straight</td>\n",
       "      <td>None or Unspecified</td>\n",
       "      <td>NaN</td>\n",
       "      <td>NaN</td>\n",
       "      <td>1989</td>\n",
       "      <td>1</td>\n",
       "      <td>31</td>\n",
       "      <td>1</td>\n",
       "      <td>31</td>\n",
       "    </tr>\n",
       "    <tr>\n",
       "      <th>212552</th>\n",
       "      <td>1671174</td>\n",
       "      <td>16000.0</td>\n",
       "      <td>1327630</td>\n",
       "      <td>8591</td>\n",
       "      <td>132</td>\n",
       "      <td>99.0</td>\n",
       "      <td>1980</td>\n",
       "      <td>NaN</td>\n",
       "      <td>NaN</td>\n",
       "      <td>A62</td>\n",
       "      <td>...</td>\n",
       "      <td>NaN</td>\n",
       "      <td>NaN</td>\n",
       "      <td>NaN</td>\n",
       "      <td>Standard</td>\n",
       "      <td>Conventional</td>\n",
       "      <td>1989</td>\n",
       "      <td>1</td>\n",
       "      <td>31</td>\n",
       "      <td>1</td>\n",
       "      <td>31</td>\n",
       "    </tr>\n",
       "    <tr>\n",
       "      <th>62755</th>\n",
       "      <td>1329056</td>\n",
       "      <td>22000.0</td>\n",
       "      <td>1336053</td>\n",
       "      <td>4089</td>\n",
       "      <td>132</td>\n",
       "      <td>99.0</td>\n",
       "      <td>1984</td>\n",
       "      <td>NaN</td>\n",
       "      <td>NaN</td>\n",
       "      <td>D3B</td>\n",
       "      <td>...</td>\n",
       "      <td>None or Unspecified</td>\n",
       "      <td>PAT</td>\n",
       "      <td>Lever</td>\n",
       "      <td>NaN</td>\n",
       "      <td>NaN</td>\n",
       "      <td>1989</td>\n",
       "      <td>1</td>\n",
       "      <td>31</td>\n",
       "      <td>1</td>\n",
       "      <td>31</td>\n",
       "    </tr>\n",
       "  </tbody>\n",
       "</table>\n",
       "<p>5 rows × 57 columns</p>\n",
       "</div>"
      ],
      "text/plain": [
       "        SalesID  SalePrice  MachineID  ModelID  datasource  auctioneerID  \\\n",
       "205615  1646770     9500.0    1126363     8434         132          18.0   \n",
       "274835  1821514    14000.0    1194089    10150         132          99.0   \n",
       "141296  1505138    50000.0    1473654     4139         132          99.0   \n",
       "212552  1671174    16000.0    1327630     8591         132          99.0   \n",
       "62755   1329056    22000.0    1336053     4089         132          99.0   \n",
       "\n",
       "        YearMade  MachineHoursCurrentMeter UsageBand fiModelDesc  ...  \\\n",
       "205615      1974                       NaN       NaN        TD20  ...   \n",
       "274835      1980                       NaN       NaN         A66  ...   \n",
       "141296      1978                       NaN       NaN         D7G  ...   \n",
       "212552      1980                       NaN       NaN         A62  ...   \n",
       "62755       1984                       NaN       NaN         D3B  ...   \n",
       "\n",
       "           Backhoe_Mounting Blade_Type      Travel_Controls Differential_Type  \\\n",
       "205615  None or Unspecified   Straight  None or Unspecified               NaN   \n",
       "274835                  NaN        NaN                  NaN          Standard   \n",
       "141296  None or Unspecified   Straight  None or Unspecified               NaN   \n",
       "212552                  NaN        NaN                  NaN          Standard   \n",
       "62755   None or Unspecified        PAT                Lever               NaN   \n",
       "\n",
       "       Steering_Controls SaleYear SaleMonth SaleDay Saledayofweek  \\\n",
       "205615               NaN     1989         1      17             1   \n",
       "274835      Conventional     1989         1      31             1   \n",
       "141296               NaN     1989         1      31             1   \n",
       "212552      Conventional     1989         1      31             1   \n",
       "62755                NaN     1989         1      31             1   \n",
       "\n",
       "       Saledayofyear  \n",
       "205615            17  \n",
       "274835            31  \n",
       "141296            31  \n",
       "212552            31  \n",
       "62755             31  \n",
       "\n",
       "[5 rows x 57 columns]"
      ]
     },
     "execution_count": 13,
     "metadata": {},
     "output_type": "execute_result"
    }
   ],
   "source": [
    "df_temp.head(5)"
   ]
  },
  {
   "cell_type": "code",
   "execution_count": 14,
   "id": "8f6b2a93",
   "metadata": {},
   "outputs": [
    {
     "data": {
      "text/plain": [
       "Florida           67320\n",
       "Texas             53110\n",
       "California        29761\n",
       "Washington        16222\n",
       "Georgia           14633\n",
       "Maryland          13322\n",
       "Mississippi       13240\n",
       "Ohio              12369\n",
       "Illinois          11540\n",
       "Colorado          11529\n",
       "New Jersey        11156\n",
       "North Carolina    10636\n",
       "Tennessee         10298\n",
       "Alabama           10292\n",
       "Pennsylvania      10234\n",
       "South Carolina     9951\n",
       "Arizona            9364\n",
       "New York           8639\n",
       "Connecticut        8276\n",
       "Minnesota          7885\n",
       "Missouri           7178\n",
       "Nevada             6932\n",
       "Louisiana          6627\n",
       "Kentucky           5351\n",
       "Maine              5096\n",
       "Indiana            4124\n",
       "Arkansas           3933\n",
       "New Mexico         3631\n",
       "Utah               3046\n",
       "Unspecified        2801\n",
       "Wisconsin          2745\n",
       "New Hampshire      2738\n",
       "Virginia           2353\n",
       "Idaho              2025\n",
       "Oregon             1911\n",
       "Michigan           1831\n",
       "Wyoming            1672\n",
       "Montana            1336\n",
       "Iowa               1336\n",
       "Oklahoma           1326\n",
       "Nebraska            866\n",
       "West Virginia       840\n",
       "Kansas              667\n",
       "Delaware            510\n",
       "North Dakota        480\n",
       "Alaska              430\n",
       "Massachusetts       347\n",
       "Vermont             300\n",
       "South Dakota        244\n",
       "Hawaii              118\n",
       "Rhode Island         83\n",
       "Puerto Rico          42\n",
       "Washington DC         2\n",
       "Name: state, dtype: int64"
      ]
     },
     "execution_count": 14,
     "metadata": {},
     "output_type": "execute_result"
    }
   ],
   "source": [
    "df_temp[\"state\"].value_counts()"
   ]
  },
  {
   "cell_type": "markdown",
   "id": "e71f5a4c",
   "metadata": {},
   "source": [
    "### 5. Modelling"
   ]
  },
  {
   "cell_type": "code",
   "execution_count": 15,
   "id": "35fa8ba4",
   "metadata": {},
   "outputs": [
    {
     "name": "stdout",
     "output_type": "stream",
     "text": [
      "<class 'pandas.core.frame.DataFrame'>\n",
      "Int64Index: 412698 entries, 205615 to 409203\n",
      "Data columns (total 57 columns):\n",
      " #   Column                    Non-Null Count   Dtype  \n",
      "---  ------                    --------------   -----  \n",
      " 0   SalesID                   412698 non-null  int64  \n",
      " 1   SalePrice                 412698 non-null  float64\n",
      " 2   MachineID                 412698 non-null  int64  \n",
      " 3   ModelID                   412698 non-null  int64  \n",
      " 4   datasource                412698 non-null  int64  \n",
      " 5   auctioneerID              392562 non-null  float64\n",
      " 6   YearMade                  412698 non-null  int64  \n",
      " 7   MachineHoursCurrentMeter  147504 non-null  float64\n",
      " 8   UsageBand                 73670 non-null   object \n",
      " 9   fiModelDesc               412698 non-null  object \n",
      " 10  fiBaseModel               412698 non-null  object \n",
      " 11  fiSecondaryDesc           271971 non-null  object \n",
      " 12  fiModelSeries             58667 non-null   object \n",
      " 13  fiModelDescriptor         74816 non-null   object \n",
      " 14  ProductSize               196093 non-null  object \n",
      " 15  fiProductClassDesc        412698 non-null  object \n",
      " 16  state                     412698 non-null  object \n",
      " 17  ProductGroup              412698 non-null  object \n",
      " 18  ProductGroupDesc          412698 non-null  object \n",
      " 19  Drive_System              107087 non-null  object \n",
      " 20  Enclosure                 412364 non-null  object \n",
      " 21  Forks                     197715 non-null  object \n",
      " 22  Pad_Type                  81096 non-null   object \n",
      " 23  Ride_Control              152728 non-null  object \n",
      " 24  Stick                     81096 non-null   object \n",
      " 25  Transmission              188007 non-null  object \n",
      " 26  Turbocharged              81096 non-null   object \n",
      " 27  Blade_Extension           25983 non-null   object \n",
      " 28  Blade_Width               25983 non-null   object \n",
      " 29  Enclosure_Type            25983 non-null   object \n",
      " 30  Engine_Horsepower         25983 non-null   object \n",
      " 31  Hydraulics                330133 non-null  object \n",
      " 32  Pushblock                 25983 non-null   object \n",
      " 33  Ripper                    106945 non-null  object \n",
      " 34  Scarifier                 25994 non-null   object \n",
      " 35  Tip_Control               25983 non-null   object \n",
      " 36  Tire_Size                 97638 non-null   object \n",
      " 37  Coupler                   220679 non-null  object \n",
      " 38  Coupler_System            44974 non-null   object \n",
      " 39  Grouser_Tracks            44875 non-null   object \n",
      " 40  Hydraulics_Flow           44875 non-null   object \n",
      " 41  Track_Type                102193 non-null  object \n",
      " 42  Undercarriage_Pad_Width   102916 non-null  object \n",
      " 43  Stick_Length              102261 non-null  object \n",
      " 44  Thumb                     102332 non-null  object \n",
      " 45  Pattern_Changer           102261 non-null  object \n",
      " 46  Grouser_Type              102193 non-null  object \n",
      " 47  Backhoe_Mounting          80712 non-null   object \n",
      " 48  Blade_Type                81875 non-null   object \n",
      " 49  Travel_Controls           81877 non-null   object \n",
      " 50  Differential_Type         71564 non-null   object \n",
      " 51  Steering_Controls         71522 non-null   object \n",
      " 52  SaleYear                  412698 non-null  int64  \n",
      " 53  SaleMonth                 412698 non-null  int64  \n",
      " 54  SaleDay                   412698 non-null  int64  \n",
      " 55  Saledayofweek             412698 non-null  int64  \n",
      " 56  Saledayofyear             412698 non-null  int64  \n",
      "dtypes: float64(3), int64(10), object(44)\n",
      "memory usage: 182.6+ MB\n"
     ]
    }
   ],
   "source": [
    "df_temp.info()"
   ]
  },
  {
   "cell_type": "code",
   "execution_count": 16,
   "id": "8c6bb281",
   "metadata": {},
   "outputs": [
    {
     "data": {
      "text/plain": [
       "SalesID                          0\n",
       "SalePrice                        0\n",
       "MachineID                        0\n",
       "ModelID                          0\n",
       "datasource                       0\n",
       "auctioneerID                 20136\n",
       "YearMade                         0\n",
       "MachineHoursCurrentMeter    265194\n",
       "UsageBand                   339028\n",
       "fiModelDesc                      0\n",
       "fiBaseModel                      0\n",
       "fiSecondaryDesc             140727\n",
       "fiModelSeries               354031\n",
       "fiModelDescriptor           337882\n",
       "ProductSize                 216605\n",
       "fiProductClassDesc               0\n",
       "state                            0\n",
       "ProductGroup                     0\n",
       "ProductGroupDesc                 0\n",
       "Drive_System                305611\n",
       "Enclosure                      334\n",
       "Forks                       214983\n",
       "Pad_Type                    331602\n",
       "Ride_Control                259970\n",
       "Stick                       331602\n",
       "Transmission                224691\n",
       "Turbocharged                331602\n",
       "Blade_Extension             386715\n",
       "Blade_Width                 386715\n",
       "Enclosure_Type              386715\n",
       "Engine_Horsepower           386715\n",
       "Hydraulics                   82565\n",
       "Pushblock                   386715\n",
       "Ripper                      305753\n",
       "Scarifier                   386704\n",
       "Tip_Control                 386715\n",
       "Tire_Size                   315060\n",
       "Coupler                     192019\n",
       "Coupler_System              367724\n",
       "Grouser_Tracks              367823\n",
       "Hydraulics_Flow             367823\n",
       "Track_Type                  310505\n",
       "Undercarriage_Pad_Width     309782\n",
       "Stick_Length                310437\n",
       "Thumb                       310366\n",
       "Pattern_Changer             310437\n",
       "Grouser_Type                310505\n",
       "Backhoe_Mounting            331986\n",
       "Blade_Type                  330823\n",
       "Travel_Controls             330821\n",
       "Differential_Type           341134\n",
       "Steering_Controls           341176\n",
       "SaleYear                         0\n",
       "SaleMonth                        0\n",
       "SaleDay                          0\n",
       "Saledayofweek                    0\n",
       "Saledayofyear                    0\n",
       "dtype: int64"
      ]
     },
     "execution_count": 16,
     "metadata": {},
     "output_type": "execute_result"
    }
   ],
   "source": [
    "df_temp.isna().sum()"
   ]
  },
  {
   "cell_type": "markdown",
   "id": "25d0dac5",
   "metadata": {},
   "source": [
    "### Convert Strings to categories\n",
    "\n",
    "This will help our model to read the data correctly when we convert columns with string datatype to category datatype. \n",
    "\n",
    "For this we use pandas types API which allows us to interact and manipulate the types of data."
   ]
  },
  {
   "cell_type": "code",
   "execution_count": 17,
   "id": "dc82037d",
   "metadata": {},
   "outputs": [
    {
     "data": {
      "text/plain": [
       "True"
      ]
     },
     "execution_count": 17,
     "metadata": {},
     "output_type": "execute_result"
    }
   ],
   "source": [
    "pd.api.types.is_string_dtype(df_temp[\"UsageBand\"])"
   ]
  },
  {
   "cell_type": "code",
   "execution_count": 18,
   "id": "28873124",
   "metadata": {},
   "outputs": [
    {
     "name": "stdout",
     "output_type": "stream",
     "text": [
      "UsageBand\n",
      "fiModelDesc\n",
      "fiBaseModel\n",
      "fiSecondaryDesc\n",
      "fiModelSeries\n",
      "fiModelDescriptor\n",
      "ProductSize\n",
      "fiProductClassDesc\n",
      "state\n",
      "ProductGroup\n",
      "ProductGroupDesc\n",
      "Drive_System\n",
      "Enclosure\n",
      "Forks\n",
      "Pad_Type\n",
      "Ride_Control\n",
      "Stick\n",
      "Transmission\n",
      "Turbocharged\n",
      "Blade_Extension\n",
      "Blade_Width\n",
      "Enclosure_Type\n",
      "Engine_Horsepower\n",
      "Hydraulics\n",
      "Pushblock\n",
      "Ripper\n",
      "Scarifier\n",
      "Tip_Control\n",
      "Tire_Size\n",
      "Coupler\n",
      "Coupler_System\n",
      "Grouser_Tracks\n",
      "Hydraulics_Flow\n",
      "Track_Type\n",
      "Undercarriage_Pad_Width\n",
      "Stick_Length\n",
      "Thumb\n",
      "Pattern_Changer\n",
      "Grouser_Type\n",
      "Backhoe_Mounting\n",
      "Blade_Type\n",
      "Travel_Controls\n",
      "Differential_Type\n",
      "Steering_Controls\n"
     ]
    }
   ],
   "source": [
    "# These are the columns that contains strings\n",
    "for label, content in df_temp.items():\n",
    "    if pd.api.types.is_string_dtype(df_temp[label]):\n",
    "        print(label)"
   ]
  },
  {
   "cell_type": "code",
   "execution_count": 19,
   "id": "1635d445",
   "metadata": {},
   "outputs": [],
   "source": [
    "# To convert string values to category values\n",
    "for label, content in df_temp.items():\n",
    "    if pd.api.types.is_string_dtype(content):\n",
    "        df_temp[label] = content.astype(\"category\").cat.as_ordered()"
   ]
  },
  {
   "cell_type": "code",
   "execution_count": 20,
   "id": "af50e28e",
   "metadata": {},
   "outputs": [
    {
     "name": "stdout",
     "output_type": "stream",
     "text": [
      "<class 'pandas.core.frame.DataFrame'>\n",
      "Int64Index: 412698 entries, 205615 to 409203\n",
      "Data columns (total 57 columns):\n",
      " #   Column                    Non-Null Count   Dtype   \n",
      "---  ------                    --------------   -----   \n",
      " 0   SalesID                   412698 non-null  int64   \n",
      " 1   SalePrice                 412698 non-null  float64 \n",
      " 2   MachineID                 412698 non-null  int64   \n",
      " 3   ModelID                   412698 non-null  int64   \n",
      " 4   datasource                412698 non-null  int64   \n",
      " 5   auctioneerID              392562 non-null  float64 \n",
      " 6   YearMade                  412698 non-null  int64   \n",
      " 7   MachineHoursCurrentMeter  147504 non-null  float64 \n",
      " 8   UsageBand                 73670 non-null   category\n",
      " 9   fiModelDesc               412698 non-null  category\n",
      " 10  fiBaseModel               412698 non-null  category\n",
      " 11  fiSecondaryDesc           271971 non-null  category\n",
      " 12  fiModelSeries             58667 non-null   category\n",
      " 13  fiModelDescriptor         74816 non-null   category\n",
      " 14  ProductSize               196093 non-null  category\n",
      " 15  fiProductClassDesc        412698 non-null  category\n",
      " 16  state                     412698 non-null  category\n",
      " 17  ProductGroup              412698 non-null  category\n",
      " 18  ProductGroupDesc          412698 non-null  category\n",
      " 19  Drive_System              107087 non-null  category\n",
      " 20  Enclosure                 412364 non-null  category\n",
      " 21  Forks                     197715 non-null  category\n",
      " 22  Pad_Type                  81096 non-null   category\n",
      " 23  Ride_Control              152728 non-null  category\n",
      " 24  Stick                     81096 non-null   category\n",
      " 25  Transmission              188007 non-null  category\n",
      " 26  Turbocharged              81096 non-null   category\n",
      " 27  Blade_Extension           25983 non-null   category\n",
      " 28  Blade_Width               25983 non-null   category\n",
      " 29  Enclosure_Type            25983 non-null   category\n",
      " 30  Engine_Horsepower         25983 non-null   category\n",
      " 31  Hydraulics                330133 non-null  category\n",
      " 32  Pushblock                 25983 non-null   category\n",
      " 33  Ripper                    106945 non-null  category\n",
      " 34  Scarifier                 25994 non-null   category\n",
      " 35  Tip_Control               25983 non-null   category\n",
      " 36  Tire_Size                 97638 non-null   category\n",
      " 37  Coupler                   220679 non-null  category\n",
      " 38  Coupler_System            44974 non-null   category\n",
      " 39  Grouser_Tracks            44875 non-null   category\n",
      " 40  Hydraulics_Flow           44875 non-null   category\n",
      " 41  Track_Type                102193 non-null  category\n",
      " 42  Undercarriage_Pad_Width   102916 non-null  category\n",
      " 43  Stick_Length              102261 non-null  category\n",
      " 44  Thumb                     102332 non-null  category\n",
      " 45  Pattern_Changer           102261 non-null  category\n",
      " 46  Grouser_Type              102193 non-null  category\n",
      " 47  Backhoe_Mounting          80712 non-null   category\n",
      " 48  Blade_Type                81875 non-null   category\n",
      " 49  Travel_Controls           81877 non-null   category\n",
      " 50  Differential_Type         71564 non-null   category\n",
      " 51  Steering_Controls         71522 non-null   category\n",
      " 52  SaleYear                  412698 non-null  int64   \n",
      " 53  SaleMonth                 412698 non-null  int64   \n",
      " 54  SaleDay                   412698 non-null  int64   \n",
      " 55  Saledayofweek             412698 non-null  int64   \n",
      " 56  Saledayofyear             412698 non-null  int64   \n",
      "dtypes: category(44), float64(3), int64(10)\n",
      "memory usage: 63.2 MB\n"
     ]
    }
   ],
   "source": [
    "df_temp.info()"
   ]
  },
  {
   "cell_type": "code",
   "execution_count": 21,
   "id": "b9a3bb9c",
   "metadata": {},
   "outputs": [
    {
     "data": {
      "text/plain": [
       "Index(['Alabama', 'Alaska', 'Arizona', 'Arkansas', 'California', 'Colorado',\n",
       "       'Connecticut', 'Delaware', 'Florida', 'Georgia', 'Hawaii', 'Idaho',\n",
       "       'Illinois', 'Indiana', 'Iowa', 'Kansas', 'Kentucky', 'Louisiana',\n",
       "       'Maine', 'Maryland', 'Massachusetts', 'Michigan', 'Minnesota',\n",
       "       'Mississippi', 'Missouri', 'Montana', 'Nebraska', 'Nevada',\n",
       "       'New Hampshire', 'New Jersey', 'New Mexico', 'New York',\n",
       "       'North Carolina', 'North Dakota', 'Ohio', 'Oklahoma', 'Oregon',\n",
       "       'Pennsylvania', 'Puerto Rico', 'Rhode Island', 'South Carolina',\n",
       "       'South Dakota', 'Tennessee', 'Texas', 'Unspecified', 'Utah', 'Vermont',\n",
       "       'Virginia', 'Washington', 'Washington DC', 'West Virginia', 'Wisconsin',\n",
       "       'Wyoming'],\n",
       "      dtype='object')"
      ]
     },
     "execution_count": 21,
     "metadata": {},
     "output_type": "execute_result"
    }
   ],
   "source": [
    "df_temp.state.cat.categories"
   ]
  },
  {
   "cell_type": "code",
   "execution_count": 22,
   "id": "5eee5187",
   "metadata": {},
   "outputs": [
    {
     "data": {
      "text/plain": [
       "SalesID                     0.000000\n",
       "SalePrice                   0.000000\n",
       "MachineID                   0.000000\n",
       "ModelID                     0.000000\n",
       "datasource                  0.000000\n",
       "auctioneerID                0.048791\n",
       "YearMade                    0.000000\n",
       "MachineHoursCurrentMeter    0.642586\n",
       "UsageBand                   0.821492\n",
       "fiModelDesc                 0.000000\n",
       "fiBaseModel                 0.000000\n",
       "fiSecondaryDesc             0.340993\n",
       "fiModelSeries               0.857845\n",
       "fiModelDescriptor           0.818715\n",
       "ProductSize                 0.524851\n",
       "fiProductClassDesc          0.000000\n",
       "state                       0.000000\n",
       "ProductGroup                0.000000\n",
       "ProductGroupDesc            0.000000\n",
       "Drive_System                0.740520\n",
       "Enclosure                   0.000809\n",
       "Forks                       0.520921\n",
       "Pad_Type                    0.803498\n",
       "Ride_Control                0.629928\n",
       "Stick                       0.803498\n",
       "Transmission                0.544444\n",
       "Turbocharged                0.803498\n",
       "Blade_Extension             0.937041\n",
       "Blade_Width                 0.937041\n",
       "Enclosure_Type              0.937041\n",
       "Engine_Horsepower           0.937041\n",
       "Hydraulics                  0.200062\n",
       "Pushblock                   0.937041\n",
       "Ripper                      0.740864\n",
       "Scarifier                   0.937014\n",
       "Tip_Control                 0.937041\n",
       "Tire_Size                   0.763415\n",
       "Coupler                     0.465277\n",
       "Coupler_System              0.891024\n",
       "Grouser_Tracks              0.891264\n",
       "Hydraulics_Flow             0.891264\n",
       "Track_Type                  0.752378\n",
       "Undercarriage_Pad_Width     0.750626\n",
       "Stick_Length                0.752213\n",
       "Thumb                       0.752041\n",
       "Pattern_Changer             0.752213\n",
       "Grouser_Type                0.752378\n",
       "Backhoe_Mounting            0.804428\n",
       "Blade_Type                  0.801610\n",
       "Travel_Controls             0.801606\n",
       "Differential_Type           0.826595\n",
       "Steering_Controls           0.826697\n",
       "SaleYear                    0.000000\n",
       "SaleMonth                   0.000000\n",
       "SaleDay                     0.000000\n",
       "Saledayofweek               0.000000\n",
       "Saledayofyear               0.000000\n",
       "dtype: float64"
      ]
     },
     "execution_count": 22,
     "metadata": {},
     "output_type": "execute_result"
    }
   ],
   "source": [
    "df_temp.isna().sum()/len(df_temp)"
   ]
  },
  {
   "cell_type": "markdown",
   "id": "2e879446",
   "metadata": {},
   "source": [
    "### FIll missing values\n",
    "\n",
    "Need to fill both numerical and categorical values in the dataset."
   ]
  },
  {
   "cell_type": "code",
   "execution_count": 23,
   "id": "86fb6b8a",
   "metadata": {},
   "outputs": [],
   "source": [
    "#Filling numerical values first.\n",
    "for label, content in df_temp.items():\n",
    "    if pd.api.types.is_numeric_dtype(content):\n",
    "        if pd.isnull(content).sum():\n",
    "            df_temp[label+\"_is_missing\"] = pd.isnull(content)\n",
    "            df_temp[label] = content.fillna(content.median())"
   ]
  },
  {
   "cell_type": "code",
   "execution_count": 24,
   "id": "02e2f78a",
   "metadata": {},
   "outputs": [],
   "source": [
    "for label, content in df_temp.items():\n",
    "    if pd.api.types.is_numeric_dtype(content):\n",
    "        if pd.isnull(content).sum():\n",
    "            print(label)"
   ]
  },
  {
   "cell_type": "markdown",
   "id": "c0bacca9",
   "metadata": {},
   "source": [
    "Shows that now there aren't any numerical null values  in dataset"
   ]
  },
  {
   "cell_type": "markdown",
   "id": "bcef8d76",
   "metadata": {},
   "source": [
    "### Filling and turning categorical variables to numbers"
   ]
  },
  {
   "cell_type": "code",
   "execution_count": 25,
   "id": "e748fc67",
   "metadata": {},
   "outputs": [],
   "source": [
    "#Check which all columns aren't numeric:\n",
    "for label, content in df_temp.items():\n",
    "    if not pd.api.types.is_numeric_dtype(content):\n",
    "        df_temp[label+\"_is_missing\"] = pd.isnull(content)\n",
    "        df_temp[label] = pd.Categorical(content).codes +1"
   ]
  },
  {
   "cell_type": "code",
   "execution_count": 26,
   "id": "c78ceaba",
   "metadata": {},
   "outputs": [
    {
     "name": "stdout",
     "output_type": "stream",
     "text": [
      "<class 'pandas.core.frame.DataFrame'>\n",
      "Int64Index: 412698 entries, 205615 to 409203\n",
      "Columns: 103 entries, SalesID to Steering_Controls_is_missing\n",
      "dtypes: bool(46), float64(3), int16(4), int64(10), int8(40)\n",
      "memory usage: 81.1 MB\n"
     ]
    }
   ],
   "source": [
    "df_temp.info()"
   ]
  },
  {
   "cell_type": "code",
   "execution_count": 27,
   "id": "5a414a02",
   "metadata": {},
   "outputs": [
    {
     "data": {
      "text/plain": [
       "SalesID                         0\n",
       "SalePrice                       0\n",
       "MachineID                       0\n",
       "ModelID                         0\n",
       "datasource                      0\n",
       "                               ..\n",
       "Backhoe_Mounting_is_missing     0\n",
       "Blade_Type_is_missing           0\n",
       "Travel_Controls_is_missing      0\n",
       "Differential_Type_is_missing    0\n",
       "Steering_Controls_is_missing    0\n",
       "Length: 103, dtype: int64"
      ]
     },
     "execution_count": 27,
     "metadata": {},
     "output_type": "execute_result"
    }
   ],
   "source": [
    "df_temp.isna().sum()"
   ]
  },
  {
   "cell_type": "markdown",
   "id": "68f9a85a",
   "metadata": {},
   "source": [
    "We have filled all our missing data with wither the median or for categorical values as missing.\n",
    "\n",
    "We can now try modelling this data with RandomForestRegressor."
   ]
  },
  {
   "cell_type": "code",
   "execution_count": 28,
   "id": "6088a8e3",
   "metadata": {},
   "outputs": [
    {
     "name": "stdout",
     "output_type": "stream",
     "text": [
      "Wall time: 3min 1s\n"
     ]
    },
    {
     "data": {
      "text/plain": [
       "RandomForestRegressor(n_jobs=-1)"
      ]
     },
     "execution_count": 28,
     "metadata": {},
     "output_type": "execute_result"
    }
   ],
   "source": [
    "%%time\n",
    "from sklearn.ensemble import RandomForestRegressor\n",
    "\n",
    "#Instantiate model\n",
    "model = RandomForestRegressor(n_jobs=-1)\n",
    "\n",
    "#fit the model\n",
    "model.fit(df_temp.drop(\"SalePrice\", axis=1), df_temp[\"SalePrice\"])"
   ]
  },
  {
   "cell_type": "code",
   "execution_count": 29,
   "id": "a2c7a789",
   "metadata": {},
   "outputs": [
    {
     "data": {
      "text/plain": [
       "0.9875444222017773"
      ]
     },
     "execution_count": 29,
     "metadata": {},
     "output_type": "execute_result"
    }
   ],
   "source": [
    "model.score(df_temp.drop(\"SalePrice\", axis=1), df_temp[\"SalePrice\"])"
   ]
  },
  {
   "cell_type": "markdown",
   "id": "99bff1b1",
   "metadata": {},
   "source": [
    "### Splitting data into train/validation sets"
   ]
  },
  {
   "cell_type": "markdown",
   "id": "be1bf057",
   "metadata": {},
   "source": [
    "According to the Kaggle data page, the validation set and test set are split according to dates.\n",
    "\n",
    "This makes sense since we're working on a time series problem.\n",
    "\n",
    "E.g. using past events to try and predict future events.\n",
    "\n",
    "Knowing this, randomly splitting our data into train and test sets using something like train_test_split() wouldn't work.\n",
    "\n",
    "Instead, we split our data into training, validation and test sets using the date each sample occured.\n",
    "\n",
    "In our case:\n",
    "\n",
    "Training = all samples up until 2011\n",
    "Valid = all samples form January 1, 2012 - April 30, 2012\n",
    "Test = all samples from May 1, 2012 - November 2012"
   ]
  },
  {
   "cell_type": "code",
   "execution_count": 30,
   "id": "5532e7d3",
   "metadata": {},
   "outputs": [
    {
     "data": {
      "text/plain": [
       "(11573, 401125)"
      ]
     },
     "execution_count": 30,
     "metadata": {},
     "output_type": "execute_result"
    }
   ],
   "source": [
    "# SPlit data into training and validation data\n",
    "df_train = df_temp[df_temp[\"SaleYear\"] != 2012]\n",
    "df_val = df_temp[df_temp[\"SaleYear\"] == 2012]\n",
    "\n",
    "len(df_val), len(df_train)"
   ]
  },
  {
   "cell_type": "code",
   "execution_count": 31,
   "id": "d5307fa5",
   "metadata": {},
   "outputs": [],
   "source": [
    "X_train, y_train = df_train.drop(\"SalePrice\", axis=1), df_train.SalePrice\n",
    "\n",
    "X_valid, y_valid = df_val.drop(\"SalePrice\", axis=1), df_val.SalePrice"
   ]
  },
  {
   "cell_type": "markdown",
   "id": "cf600539",
   "metadata": {},
   "source": [
    "### Evaluation of the model\n",
    "\n",
    "In Kaggle Bluebook bulldozer competition, the evaluation function they use is root mean squared log error. (RMSE)\n",
    "\n"
   ]
  },
  {
   "cell_type": "code",
   "execution_count": 32,
   "id": "174ccbc9",
   "metadata": {},
   "outputs": [],
   "source": [
    "from sklearn.metrics import mean_squared_log_error, mean_absolute_error\n",
    "\n",
    "def rmsle(y_test, y_preds):\n",
    "    return np.sqrt(mean_squared_log_error(y_test, y_preds))\n",
    "\n",
    "# Create function to evaluate our model:\n",
    "def show_scores(model):\n",
    "    train_preds = model.predict(X_train)\n",
    "    val_preds = model.predict(X_valid)\n",
    "    scores = {\"Training MAE\": mean_absolute_error(y_train, train_preds),\n",
    "             \"Valid MAE\": mean_absolute_error(y_valid, val_preds),\n",
    "             \"Training RMSLE\": rmsle(y_train, train_preds),\n",
    "             \"Valid RMSLE\": rmsle(y_valid, val_preds),\n",
    "             \"Training R^2\": model.score(X_train, y_train),\n",
    "             \"Valid R^2\": model.score(X_valid, y_valid)}\n",
    "    return scores"
   ]
  },
  {
   "cell_type": "code",
   "execution_count": 34,
   "id": "71199a56",
   "metadata": {},
   "outputs": [
    {
     "name": "stdout",
     "output_type": "stream",
     "text": [
      "Wall time: 3min 26s\n"
     ]
    },
    {
     "data": {
      "text/plain": [
       "{'Training MAE': 1579.314205596759,\n",
       " 'Valid MAE': 6120.0656381232175,\n",
       " 'Training RMSLE': 0.08430545360436105,\n",
       " 'Valid RMSLE': 0.2553662805605395,\n",
       " 'Training R^2': 0.9875292811877651,\n",
       " 'Valid R^2': 0.87246168968265}"
      ]
     },
     "execution_count": 34,
     "metadata": {},
     "output_type": "execute_result"
    }
   ],
   "source": [
    "\n",
    "\n",
    "%%time\n",
    "# Retrain a model on training data\n",
    "model.fit(X_train, y_train)\n",
    "show_scores(model)"
   ]
  },
  {
   "cell_type": "code",
   "execution_count": 35,
   "id": "ce499016",
   "metadata": {},
   "outputs": [
    {
     "data": {
      "text/plain": [
       "401125"
      ]
     },
     "execution_count": 35,
     "metadata": {},
     "output_type": "execute_result"
    }
   ],
   "source": [
    "len(X_train)"
   ]
  },
  {
   "cell_type": "code",
   "execution_count": 37,
   "id": "857ae59b",
   "metadata": {},
   "outputs": [],
   "source": [
    "# Change the max samples in RandomForestRegressor\n",
    "model = RandomForestRegressor(n_jobs= -1,\n",
    "                             max_samples = 100000)"
   ]
  },
  {
   "cell_type": "markdown",
   "id": "a739e5f6",
   "metadata": {},
   "source": [
    "\n",
    "Setting max_samples to 10000 means every n_estimator (default 100) in our RandomForestRegressor will only see 10000 random samples from our DataFrame instead of the entire 400,000.\n",
    "\n",
    "In other words, we'll be looking at 40x less samples which means we'll get faster computation speeds but we should expect our results to worsen (simple the model has less samples to learn patterns from)."
   ]
  },
  {
   "cell_type": "code",
   "execution_count": 38,
   "id": "284770aa",
   "metadata": {},
   "outputs": [
    {
     "name": "stdout",
     "output_type": "stream",
     "text": [
      "Wall time: 1min 10s\n"
     ]
    },
    {
     "data": {
      "text/plain": [
       "RandomForestRegressor(max_samples=100000, n_jobs=-1)"
      ]
     },
     "execution_count": 38,
     "metadata": {},
     "output_type": "execute_result"
    }
   ],
   "source": [
    "%%time\n",
    "# Cutting down the max number of samples each tree can see improves training time\n",
    "model.fit(X_train, y_train)"
   ]
  },
  {
   "cell_type": "code",
   "execution_count": 39,
   "id": "d9d68485",
   "metadata": {},
   "outputs": [
    {
     "data": {
      "text/plain": [
       "{'Training MAE': 3582.2335121470887,\n",
       " 'Valid MAE': 6162.565466171261,\n",
       " 'Training RMSLE': 0.17504103329713674,\n",
       " 'Valid RMSLE': 0.2561045924170021,\n",
       " 'Training R^2': 0.9392568875772649,\n",
       " 'Valid R^2': 0.8726985467496389}"
      ]
     },
     "execution_count": 39,
     "metadata": {},
     "output_type": "execute_result"
    }
   ],
   "source": [
    "show_scores(model)"
   ]
  },
  {
   "cell_type": "markdown",
   "id": "ed8d4e5f",
   "metadata": {},
   "source": [
    "### Hyperparameter tuning with RandomizedSearchCV\n",
    "\n",
    "We can try to increase n_iter to 20 and see"
   ]
  },
  {
   "cell_type": "code",
   "execution_count": 42,
   "id": "f58715a6",
   "metadata": {},
   "outputs": [
    {
     "name": "stdout",
     "output_type": "stream",
     "text": [
      "Fitting 5 folds for each of 20 candidates, totalling 100 fits\n",
      "Wall time: 35min 3s\n"
     ]
    },
    {
     "data": {
      "text/plain": [
       "RandomizedSearchCV(cv=5, estimator=RandomForestRegressor(), n_iter=20,\n",
       "                   param_distributions={'max_depth': [None, 3, 5, 10],\n",
       "                                        'max_features': [0.5, 1, 'sqrt',\n",
       "                                                         'auto'],\n",
       "                                        'max_samples': [100000],\n",
       "                                        'min_samples_leaf': array([ 1,  3,  5,  7,  9, 11, 13, 15, 17, 19]),\n",
       "                                        'min_samples_split': array([ 2,  4,  6,  8, 10, 12, 14, 16, 18]),\n",
       "                                        'n_estimators': array([10, 20, 30, 40, 50, 60, 70, 80, 90])},\n",
       "                   verbose=True)"
      ]
     },
     "execution_count": 42,
     "metadata": {},
     "output_type": "execute_result"
    }
   ],
   "source": [
    "%%time\n",
    "from sklearn.model_selection import RandomizedSearchCV\n",
    "\n",
    "rf_grid = {\"n_estimators\": np.arange(10, 100, 10),\n",
    "          \"max_depth\": [None, 3, 5, 10],\n",
    "          \"min_samples_split\": np.arange(2, 20, 2),\n",
    "          \"min_samples_leaf\": np.arange(1, 20, 2),\n",
    "          \"max_features\": [0.5, 1,'sqrt', 'auto'], \n",
    "          'max_samples': [100000]}\n",
    "\n",
    "rs_model = RandomizedSearchCV(RandomForestRegressor(),\n",
    "                         param_distributions=rf_grid,\n",
    "                         n_iter=20,\n",
    "                         cv=5,\n",
    "                         verbose=True)\n",
    "\n",
    "rs_model.fit(X_train, y_train)"
   ]
  },
  {
   "cell_type": "code",
   "execution_count": 43,
   "id": "f39d82ce",
   "metadata": {},
   "outputs": [
    {
     "data": {
      "text/plain": [
       "{'n_estimators': 80,\n",
       " 'min_samples_split': 8,\n",
       " 'min_samples_leaf': 1,\n",
       " 'max_samples': 100000,\n",
       " 'max_features': 'auto',\n",
       " 'max_depth': None}"
      ]
     },
     "execution_count": 43,
     "metadata": {},
     "output_type": "execute_result"
    }
   ],
   "source": [
    "#Find the best parameters from the RandomizedSearch\n",
    "rs_model.best_params_"
   ]
  },
  {
   "cell_type": "code",
   "execution_count": 46,
   "id": "27a3cdef",
   "metadata": {},
   "outputs": [
    {
     "data": {
      "text/plain": [
       "{'Training MAE': 3852.045347766529,\n",
       " 'Valid MAE': 6186.797435937013,\n",
       " 'Training RMSLE': 0.18667239230384625,\n",
       " 'Valid RMSLE': 0.25650112301355577,\n",
       " 'Training R^2': 0.9295162033969957,\n",
       " 'Valid R^2': 0.8715741173214198}"
      ]
     },
     "execution_count": 46,
     "metadata": {},
     "output_type": "execute_result"
    }
   ],
   "source": [
    "#Evaluate the RandomizedSearch model\n",
    "show_scores(rs_model)"
   ]
  },
  {
   "cell_type": "code",
   "execution_count": 47,
   "id": "e62a80ac",
   "metadata": {},
   "outputs": [
    {
     "name": "stdout",
     "output_type": "stream",
     "text": [
      "Wall time: 1min 13s\n"
     ]
    },
    {
     "data": {
      "text/plain": [
       "RandomForestRegressor(max_features=0.5, min_samples_split=14, n_estimators=90,\n",
       "                      n_jobs=-1)"
      ]
     },
     "execution_count": 47,
     "metadata": {},
     "output_type": "execute_result"
    }
   ],
   "source": [
    "%%time\n",
    "# Most ideal hyperparameters\n",
    "ideal_model = RandomForestRegressor(n_estimators=90,\n",
    "                                    min_samples_leaf=1,\n",
    "                                    min_samples_split=14,\n",
    "                                    max_features=0.5,\n",
    "                                    n_jobs=-1,\n",
    "                                    max_samples=None)\n",
    "ideal_model.fit(X_train, y_train)"
   ]
  },
  {
   "cell_type": "code",
   "execution_count": 48,
   "id": "e806cc9b",
   "metadata": {},
   "outputs": [
    {
     "data": {
      "text/plain": [
       "{'Training MAE': 2926.4724252504625,\n",
       " 'Valid MAE': 5916.239212083575,\n",
       " 'Training RMSLE': 0.14339098102524794,\n",
       " 'Valid RMSLE': 0.24521669363103787,\n",
       " 'Training R^2': 0.95971744883999,\n",
       " 'Valid R^2': 0.8826730726055502}"
      ]
     },
     "execution_count": 48,
     "metadata": {},
     "output_type": "execute_result"
    }
   ],
   "source": [
    "show_scores(ideal_model)"
   ]
  },
  {
   "cell_type": "markdown",
   "id": "55a4136d",
   "metadata": {},
   "source": [
    "### Make predictions on test data\n",
    "\n",
    "So what we're doing is trying to use the patterns our model has learned in the training data to predict the sale price of a Bulldozer with characteristics it's never seen before but are assumed to be similar to that of those in the training data."
   ]
  },
  {
   "cell_type": "code",
   "execution_count": 69,
   "id": "9c687dd9",
   "metadata": {},
   "outputs": [
    {
     "data": {
      "text/html": [
       "<div>\n",
       "<style scoped>\n",
       "    .dataframe tbody tr th:only-of-type {\n",
       "        vertical-align: middle;\n",
       "    }\n",
       "\n",
       "    .dataframe tbody tr th {\n",
       "        vertical-align: top;\n",
       "    }\n",
       "\n",
       "    .dataframe thead th {\n",
       "        text-align: right;\n",
       "    }\n",
       "</style>\n",
       "<table border=\"1\" class=\"dataframe\">\n",
       "  <thead>\n",
       "    <tr style=\"text-align: right;\">\n",
       "      <th></th>\n",
       "      <th>SalesID</th>\n",
       "      <th>MachineID</th>\n",
       "      <th>ModelID</th>\n",
       "      <th>datasource</th>\n",
       "      <th>auctioneerID</th>\n",
       "      <th>YearMade</th>\n",
       "      <th>MachineHoursCurrentMeter</th>\n",
       "      <th>UsageBand</th>\n",
       "      <th>saledate</th>\n",
       "      <th>fiModelDesc</th>\n",
       "      <th>...</th>\n",
       "      <th>Undercarriage_Pad_Width</th>\n",
       "      <th>Stick_Length</th>\n",
       "      <th>Thumb</th>\n",
       "      <th>Pattern_Changer</th>\n",
       "      <th>Grouser_Type</th>\n",
       "      <th>Backhoe_Mounting</th>\n",
       "      <th>Blade_Type</th>\n",
       "      <th>Travel_Controls</th>\n",
       "      <th>Differential_Type</th>\n",
       "      <th>Steering_Controls</th>\n",
       "    </tr>\n",
       "  </thead>\n",
       "  <tbody>\n",
       "    <tr>\n",
       "      <th>0</th>\n",
       "      <td>1227829</td>\n",
       "      <td>1006309</td>\n",
       "      <td>3168</td>\n",
       "      <td>121</td>\n",
       "      <td>3</td>\n",
       "      <td>1999</td>\n",
       "      <td>3688.0</td>\n",
       "      <td>Low</td>\n",
       "      <td>2012-05-03</td>\n",
       "      <td>580G</td>\n",
       "      <td>...</td>\n",
       "      <td>NaN</td>\n",
       "      <td>NaN</td>\n",
       "      <td>NaN</td>\n",
       "      <td>NaN</td>\n",
       "      <td>NaN</td>\n",
       "      <td>NaN</td>\n",
       "      <td>NaN</td>\n",
       "      <td>NaN</td>\n",
       "      <td>NaN</td>\n",
       "      <td>NaN</td>\n",
       "    </tr>\n",
       "    <tr>\n",
       "      <th>1</th>\n",
       "      <td>1227844</td>\n",
       "      <td>1022817</td>\n",
       "      <td>7271</td>\n",
       "      <td>121</td>\n",
       "      <td>3</td>\n",
       "      <td>1000</td>\n",
       "      <td>28555.0</td>\n",
       "      <td>High</td>\n",
       "      <td>2012-05-10</td>\n",
       "      <td>936</td>\n",
       "      <td>...</td>\n",
       "      <td>NaN</td>\n",
       "      <td>NaN</td>\n",
       "      <td>NaN</td>\n",
       "      <td>NaN</td>\n",
       "      <td>NaN</td>\n",
       "      <td>NaN</td>\n",
       "      <td>NaN</td>\n",
       "      <td>NaN</td>\n",
       "      <td>Standard</td>\n",
       "      <td>Conventional</td>\n",
       "    </tr>\n",
       "    <tr>\n",
       "      <th>2</th>\n",
       "      <td>1227847</td>\n",
       "      <td>1031560</td>\n",
       "      <td>22805</td>\n",
       "      <td>121</td>\n",
       "      <td>3</td>\n",
       "      <td>2004</td>\n",
       "      <td>6038.0</td>\n",
       "      <td>Medium</td>\n",
       "      <td>2012-05-10</td>\n",
       "      <td>EC210BLC</td>\n",
       "      <td>...</td>\n",
       "      <td>None or Unspecified</td>\n",
       "      <td>9' 6\"</td>\n",
       "      <td>Manual</td>\n",
       "      <td>None or Unspecified</td>\n",
       "      <td>Double</td>\n",
       "      <td>NaN</td>\n",
       "      <td>NaN</td>\n",
       "      <td>NaN</td>\n",
       "      <td>NaN</td>\n",
       "      <td>NaN</td>\n",
       "    </tr>\n",
       "    <tr>\n",
       "      <th>3</th>\n",
       "      <td>1227848</td>\n",
       "      <td>56204</td>\n",
       "      <td>1269</td>\n",
       "      <td>121</td>\n",
       "      <td>3</td>\n",
       "      <td>2006</td>\n",
       "      <td>8940.0</td>\n",
       "      <td>High</td>\n",
       "      <td>2012-05-10</td>\n",
       "      <td>330CL</td>\n",
       "      <td>...</td>\n",
       "      <td>None or Unspecified</td>\n",
       "      <td>None or Unspecified</td>\n",
       "      <td>Manual</td>\n",
       "      <td>Yes</td>\n",
       "      <td>Triple</td>\n",
       "      <td>NaN</td>\n",
       "      <td>NaN</td>\n",
       "      <td>NaN</td>\n",
       "      <td>NaN</td>\n",
       "      <td>NaN</td>\n",
       "    </tr>\n",
       "    <tr>\n",
       "      <th>4</th>\n",
       "      <td>1227863</td>\n",
       "      <td>1053887</td>\n",
       "      <td>22312</td>\n",
       "      <td>121</td>\n",
       "      <td>3</td>\n",
       "      <td>2005</td>\n",
       "      <td>2286.0</td>\n",
       "      <td>Low</td>\n",
       "      <td>2012-05-10</td>\n",
       "      <td>650K</td>\n",
       "      <td>...</td>\n",
       "      <td>NaN</td>\n",
       "      <td>NaN</td>\n",
       "      <td>NaN</td>\n",
       "      <td>NaN</td>\n",
       "      <td>NaN</td>\n",
       "      <td>None or Unspecified</td>\n",
       "      <td>PAT</td>\n",
       "      <td>None or Unspecified</td>\n",
       "      <td>NaN</td>\n",
       "      <td>NaN</td>\n",
       "    </tr>\n",
       "  </tbody>\n",
       "</table>\n",
       "<p>5 rows × 52 columns</p>\n",
       "</div>"
      ],
      "text/plain": [
       "   SalesID  MachineID  ModelID  datasource  auctioneerID  YearMade  \\\n",
       "0  1227829    1006309     3168         121             3      1999   \n",
       "1  1227844    1022817     7271         121             3      1000   \n",
       "2  1227847    1031560    22805         121             3      2004   \n",
       "3  1227848      56204     1269         121             3      2006   \n",
       "4  1227863    1053887    22312         121             3      2005   \n",
       "\n",
       "   MachineHoursCurrentMeter UsageBand   saledate fiModelDesc  ...  \\\n",
       "0                    3688.0       Low 2012-05-03        580G  ...   \n",
       "1                   28555.0      High 2012-05-10         936  ...   \n",
       "2                    6038.0    Medium 2012-05-10    EC210BLC  ...   \n",
       "3                    8940.0      High 2012-05-10       330CL  ...   \n",
       "4                    2286.0       Low 2012-05-10        650K  ...   \n",
       "\n",
       "  Undercarriage_Pad_Width         Stick_Length   Thumb      Pattern_Changer  \\\n",
       "0                     NaN                  NaN     NaN                  NaN   \n",
       "1                     NaN                  NaN     NaN                  NaN   \n",
       "2     None or Unspecified                9' 6\"  Manual  None or Unspecified   \n",
       "3     None or Unspecified  None or Unspecified  Manual                  Yes   \n",
       "4                     NaN                  NaN     NaN                  NaN   \n",
       "\n",
       "  Grouser_Type     Backhoe_Mounting Blade_Type      Travel_Controls  \\\n",
       "0          NaN                  NaN        NaN                  NaN   \n",
       "1          NaN                  NaN        NaN                  NaN   \n",
       "2       Double                  NaN        NaN                  NaN   \n",
       "3       Triple                  NaN        NaN                  NaN   \n",
       "4          NaN  None or Unspecified        PAT  None or Unspecified   \n",
       "\n",
       "  Differential_Type Steering_Controls  \n",
       "0               NaN               NaN  \n",
       "1          Standard      Conventional  \n",
       "2               NaN               NaN  \n",
       "3               NaN               NaN  \n",
       "4               NaN               NaN  \n",
       "\n",
       "[5 rows x 52 columns]"
      ]
     },
     "execution_count": 69,
     "metadata": {},
     "output_type": "execute_result"
    }
   ],
   "source": [
    "df_test = pd.read_csv(\"bluebook-for-bulldozers/Test.csv\", parse_dates=[\"saledate\"])\n",
    "\n",
    "df_test.head()"
   ]
  },
  {
   "cell_type": "markdown",
   "id": "0e02aac9",
   "metadata": {},
   "source": [
    "### Preprocessing our test data"
   ]
  },
  {
   "cell_type": "code",
   "execution_count": 70,
   "id": "159b8b91",
   "metadata": {},
   "outputs": [],
   "source": [
    "def preprocess_data(df):\n",
    "    #Add datetime parameters for saledate\n",
    "    df['SaleYear'] = df.saledate.dt.year\n",
    "    df['SaleMonth'] = df[\"saledate\"].dt.month\n",
    "    df[\"SaleDay\"] = df[\"saledate\"].dt.day\n",
    "    df[\"Saledayofweek\"] = df[\"saledate\"].dt.dayofweek\n",
    "    df[\"Saledayofyear\"] = df[\"saledate\"].dt.dayofyear\n",
    "\n",
    "    #Drop original saledate\n",
    "    df.drop(\"saledate\", axis=1, inplace=True)\n",
    "    \n",
    "    #Fill numeric rows with the median\n",
    "    for label, content in df.items():\n",
    "        if pd.api.types.is_numeric_dtype(content):\n",
    "            if pd.isnull(content).sum():\n",
    "                df[label+\"_is_missing\"] = pd.isnull(content)\n",
    "                df[label] = content.fillna(content.median())\n",
    "                \n",
    "    #Turn categorical variables into numbers\n",
    "        if not pd.api.types.is_numeric_dtype(content):\n",
    "            df[label+\"_is_missing\"] = pd.isnull(content)\n",
    "            # We add the +1 because pandas encodes missing categories as -1\n",
    "            df[label] = pd.Categorical(content).codes+1\n",
    "        \n",
    "    return df"
   ]
  },
  {
   "cell_type": "code",
   "execution_count": 71,
   "id": "c1c58f7d",
   "metadata": {},
   "outputs": [
    {
     "data": {
      "text/html": [
       "<div>\n",
       "<style scoped>\n",
       "    .dataframe tbody tr th:only-of-type {\n",
       "        vertical-align: middle;\n",
       "    }\n",
       "\n",
       "    .dataframe tbody tr th {\n",
       "        vertical-align: top;\n",
       "    }\n",
       "\n",
       "    .dataframe thead th {\n",
       "        text-align: right;\n",
       "    }\n",
       "</style>\n",
       "<table border=\"1\" class=\"dataframe\">\n",
       "  <thead>\n",
       "    <tr style=\"text-align: right;\">\n",
       "      <th></th>\n",
       "      <th>SalesID</th>\n",
       "      <th>MachineID</th>\n",
       "      <th>ModelID</th>\n",
       "      <th>datasource</th>\n",
       "      <th>auctioneerID</th>\n",
       "      <th>YearMade</th>\n",
       "      <th>MachineHoursCurrentMeter</th>\n",
       "      <th>UsageBand</th>\n",
       "      <th>fiModelDesc</th>\n",
       "      <th>fiBaseModel</th>\n",
       "      <th>...</th>\n",
       "      <th>Undercarriage_Pad_Width_is_missing</th>\n",
       "      <th>Stick_Length_is_missing</th>\n",
       "      <th>Thumb_is_missing</th>\n",
       "      <th>Pattern_Changer_is_missing</th>\n",
       "      <th>Grouser_Type_is_missing</th>\n",
       "      <th>Backhoe_Mounting_is_missing</th>\n",
       "      <th>Blade_Type_is_missing</th>\n",
       "      <th>Travel_Controls_is_missing</th>\n",
       "      <th>Differential_Type_is_missing</th>\n",
       "      <th>Steering_Controls_is_missing</th>\n",
       "    </tr>\n",
       "  </thead>\n",
       "  <tbody>\n",
       "    <tr>\n",
       "      <th>0</th>\n",
       "      <td>1227829</td>\n",
       "      <td>1006309</td>\n",
       "      <td>3168</td>\n",
       "      <td>121</td>\n",
       "      <td>3</td>\n",
       "      <td>1999</td>\n",
       "      <td>3688.0</td>\n",
       "      <td>2</td>\n",
       "      <td>499</td>\n",
       "      <td>180</td>\n",
       "      <td>...</td>\n",
       "      <td>True</td>\n",
       "      <td>True</td>\n",
       "      <td>True</td>\n",
       "      <td>True</td>\n",
       "      <td>True</td>\n",
       "      <td>True</td>\n",
       "      <td>True</td>\n",
       "      <td>True</td>\n",
       "      <td>True</td>\n",
       "      <td>True</td>\n",
       "    </tr>\n",
       "    <tr>\n",
       "      <th>1</th>\n",
       "      <td>1227844</td>\n",
       "      <td>1022817</td>\n",
       "      <td>7271</td>\n",
       "      <td>121</td>\n",
       "      <td>3</td>\n",
       "      <td>1000</td>\n",
       "      <td>28555.0</td>\n",
       "      <td>1</td>\n",
       "      <td>831</td>\n",
       "      <td>292</td>\n",
       "      <td>...</td>\n",
       "      <td>True</td>\n",
       "      <td>True</td>\n",
       "      <td>True</td>\n",
       "      <td>True</td>\n",
       "      <td>True</td>\n",
       "      <td>True</td>\n",
       "      <td>True</td>\n",
       "      <td>True</td>\n",
       "      <td>False</td>\n",
       "      <td>False</td>\n",
       "    </tr>\n",
       "    <tr>\n",
       "      <th>2</th>\n",
       "      <td>1227847</td>\n",
       "      <td>1031560</td>\n",
       "      <td>22805</td>\n",
       "      <td>121</td>\n",
       "      <td>3</td>\n",
       "      <td>2004</td>\n",
       "      <td>6038.0</td>\n",
       "      <td>3</td>\n",
       "      <td>1177</td>\n",
       "      <td>404</td>\n",
       "      <td>...</td>\n",
       "      <td>False</td>\n",
       "      <td>False</td>\n",
       "      <td>False</td>\n",
       "      <td>False</td>\n",
       "      <td>False</td>\n",
       "      <td>True</td>\n",
       "      <td>True</td>\n",
       "      <td>True</td>\n",
       "      <td>True</td>\n",
       "      <td>True</td>\n",
       "    </tr>\n",
       "    <tr>\n",
       "      <th>3</th>\n",
       "      <td>1227848</td>\n",
       "      <td>56204</td>\n",
       "      <td>1269</td>\n",
       "      <td>121</td>\n",
       "      <td>3</td>\n",
       "      <td>2006</td>\n",
       "      <td>8940.0</td>\n",
       "      <td>1</td>\n",
       "      <td>287</td>\n",
       "      <td>113</td>\n",
       "      <td>...</td>\n",
       "      <td>False</td>\n",
       "      <td>False</td>\n",
       "      <td>False</td>\n",
       "      <td>False</td>\n",
       "      <td>False</td>\n",
       "      <td>True</td>\n",
       "      <td>True</td>\n",
       "      <td>True</td>\n",
       "      <td>True</td>\n",
       "      <td>True</td>\n",
       "    </tr>\n",
       "    <tr>\n",
       "      <th>4</th>\n",
       "      <td>1227863</td>\n",
       "      <td>1053887</td>\n",
       "      <td>22312</td>\n",
       "      <td>121</td>\n",
       "      <td>3</td>\n",
       "      <td>2005</td>\n",
       "      <td>2286.0</td>\n",
       "      <td>2</td>\n",
       "      <td>566</td>\n",
       "      <td>196</td>\n",
       "      <td>...</td>\n",
       "      <td>True</td>\n",
       "      <td>True</td>\n",
       "      <td>True</td>\n",
       "      <td>True</td>\n",
       "      <td>True</td>\n",
       "      <td>False</td>\n",
       "      <td>False</td>\n",
       "      <td>False</td>\n",
       "      <td>True</td>\n",
       "      <td>True</td>\n",
       "    </tr>\n",
       "  </tbody>\n",
       "</table>\n",
       "<p>5 rows × 101 columns</p>\n",
       "</div>"
      ],
      "text/plain": [
       "   SalesID  MachineID  ModelID  datasource  auctioneerID  YearMade  \\\n",
       "0  1227829    1006309     3168         121             3      1999   \n",
       "1  1227844    1022817     7271         121             3      1000   \n",
       "2  1227847    1031560    22805         121             3      2004   \n",
       "3  1227848      56204     1269         121             3      2006   \n",
       "4  1227863    1053887    22312         121             3      2005   \n",
       "\n",
       "   MachineHoursCurrentMeter  UsageBand  fiModelDesc  fiBaseModel  ...  \\\n",
       "0                    3688.0          2          499          180  ...   \n",
       "1                   28555.0          1          831          292  ...   \n",
       "2                    6038.0          3         1177          404  ...   \n",
       "3                    8940.0          1          287          113  ...   \n",
       "4                    2286.0          2          566          196  ...   \n",
       "\n",
       "   Undercarriage_Pad_Width_is_missing  Stick_Length_is_missing  \\\n",
       "0                                True                     True   \n",
       "1                                True                     True   \n",
       "2                               False                    False   \n",
       "3                               False                    False   \n",
       "4                                True                     True   \n",
       "\n",
       "   Thumb_is_missing  Pattern_Changer_is_missing  Grouser_Type_is_missing  \\\n",
       "0              True                        True                     True   \n",
       "1              True                        True                     True   \n",
       "2             False                       False                    False   \n",
       "3             False                       False                    False   \n",
       "4              True                        True                     True   \n",
       "\n",
       "   Backhoe_Mounting_is_missing  Blade_Type_is_missing  \\\n",
       "0                         True                   True   \n",
       "1                         True                   True   \n",
       "2                         True                   True   \n",
       "3                         True                   True   \n",
       "4                        False                  False   \n",
       "\n",
       "   Travel_Controls_is_missing  Differential_Type_is_missing  \\\n",
       "0                        True                          True   \n",
       "1                        True                         False   \n",
       "2                        True                          True   \n",
       "3                        True                          True   \n",
       "4                       False                          True   \n",
       "\n",
       "   Steering_Controls_is_missing  \n",
       "0                          True  \n",
       "1                         False  \n",
       "2                          True  \n",
       "3                          True  \n",
       "4                          True  \n",
       "\n",
       "[5 rows x 101 columns]"
      ]
     },
     "execution_count": 71,
     "metadata": {},
     "output_type": "execute_result"
    }
   ],
   "source": [
    "df_test = preprocess_data(df_test)\n",
    "df_test.head()"
   ]
  },
  {
   "cell_type": "code",
   "execution_count": 72,
   "id": "a7bd1f49",
   "metadata": {},
   "outputs": [
    {
     "data": {
      "text/plain": [
       "{'auctioneerID_is_missing'}"
      ]
     },
     "execution_count": 72,
     "metadata": {},
     "output_type": "execute_result"
    }
   ],
   "source": [
    "set(X_train.columns) - set(df_test.columns)"
   ]
  },
  {
   "cell_type": "markdown",
   "id": "118ff3bc",
   "metadata": {},
   "source": [
    "In this case, it's because the test dataset wasn't missing any auctioneerID fields.\n",
    "\n",
    "To fix it, we'll add a column to the test dataset called auctioneerID_is_missing and fill it with False, since none of the auctioneerID fields are missing in the test dataset."
   ]
  },
  {
   "cell_type": "code",
   "execution_count": 73,
   "id": "df3fafca",
   "metadata": {},
   "outputs": [
    {
     "data": {
      "text/html": [
       "<div>\n",
       "<style scoped>\n",
       "    .dataframe tbody tr th:only-of-type {\n",
       "        vertical-align: middle;\n",
       "    }\n",
       "\n",
       "    .dataframe tbody tr th {\n",
       "        vertical-align: top;\n",
       "    }\n",
       "\n",
       "    .dataframe thead th {\n",
       "        text-align: right;\n",
       "    }\n",
       "</style>\n",
       "<table border=\"1\" class=\"dataframe\">\n",
       "  <thead>\n",
       "    <tr style=\"text-align: right;\">\n",
       "      <th></th>\n",
       "      <th>SalesID</th>\n",
       "      <th>MachineID</th>\n",
       "      <th>ModelID</th>\n",
       "      <th>datasource</th>\n",
       "      <th>auctioneerID</th>\n",
       "      <th>YearMade</th>\n",
       "      <th>MachineHoursCurrentMeter</th>\n",
       "      <th>UsageBand</th>\n",
       "      <th>fiModelDesc</th>\n",
       "      <th>fiBaseModel</th>\n",
       "      <th>...</th>\n",
       "      <th>Stick_Length_is_missing</th>\n",
       "      <th>Thumb_is_missing</th>\n",
       "      <th>Pattern_Changer_is_missing</th>\n",
       "      <th>Grouser_Type_is_missing</th>\n",
       "      <th>Backhoe_Mounting_is_missing</th>\n",
       "      <th>Blade_Type_is_missing</th>\n",
       "      <th>Travel_Controls_is_missing</th>\n",
       "      <th>Differential_Type_is_missing</th>\n",
       "      <th>Steering_Controls_is_missing</th>\n",
       "      <th>auctioneerID_is_missing</th>\n",
       "    </tr>\n",
       "  </thead>\n",
       "  <tbody>\n",
       "    <tr>\n",
       "      <th>0</th>\n",
       "      <td>1227829</td>\n",
       "      <td>1006309</td>\n",
       "      <td>3168</td>\n",
       "      <td>121</td>\n",
       "      <td>3</td>\n",
       "      <td>1999</td>\n",
       "      <td>3688.0</td>\n",
       "      <td>2</td>\n",
       "      <td>499</td>\n",
       "      <td>180</td>\n",
       "      <td>...</td>\n",
       "      <td>True</td>\n",
       "      <td>True</td>\n",
       "      <td>True</td>\n",
       "      <td>True</td>\n",
       "      <td>True</td>\n",
       "      <td>True</td>\n",
       "      <td>True</td>\n",
       "      <td>True</td>\n",
       "      <td>True</td>\n",
       "      <td>False</td>\n",
       "    </tr>\n",
       "    <tr>\n",
       "      <th>1</th>\n",
       "      <td>1227844</td>\n",
       "      <td>1022817</td>\n",
       "      <td>7271</td>\n",
       "      <td>121</td>\n",
       "      <td>3</td>\n",
       "      <td>1000</td>\n",
       "      <td>28555.0</td>\n",
       "      <td>1</td>\n",
       "      <td>831</td>\n",
       "      <td>292</td>\n",
       "      <td>...</td>\n",
       "      <td>True</td>\n",
       "      <td>True</td>\n",
       "      <td>True</td>\n",
       "      <td>True</td>\n",
       "      <td>True</td>\n",
       "      <td>True</td>\n",
       "      <td>True</td>\n",
       "      <td>False</td>\n",
       "      <td>False</td>\n",
       "      <td>False</td>\n",
       "    </tr>\n",
       "    <tr>\n",
       "      <th>2</th>\n",
       "      <td>1227847</td>\n",
       "      <td>1031560</td>\n",
       "      <td>22805</td>\n",
       "      <td>121</td>\n",
       "      <td>3</td>\n",
       "      <td>2004</td>\n",
       "      <td>6038.0</td>\n",
       "      <td>3</td>\n",
       "      <td>1177</td>\n",
       "      <td>404</td>\n",
       "      <td>...</td>\n",
       "      <td>False</td>\n",
       "      <td>False</td>\n",
       "      <td>False</td>\n",
       "      <td>False</td>\n",
       "      <td>True</td>\n",
       "      <td>True</td>\n",
       "      <td>True</td>\n",
       "      <td>True</td>\n",
       "      <td>True</td>\n",
       "      <td>False</td>\n",
       "    </tr>\n",
       "    <tr>\n",
       "      <th>3</th>\n",
       "      <td>1227848</td>\n",
       "      <td>56204</td>\n",
       "      <td>1269</td>\n",
       "      <td>121</td>\n",
       "      <td>3</td>\n",
       "      <td>2006</td>\n",
       "      <td>8940.0</td>\n",
       "      <td>1</td>\n",
       "      <td>287</td>\n",
       "      <td>113</td>\n",
       "      <td>...</td>\n",
       "      <td>False</td>\n",
       "      <td>False</td>\n",
       "      <td>False</td>\n",
       "      <td>False</td>\n",
       "      <td>True</td>\n",
       "      <td>True</td>\n",
       "      <td>True</td>\n",
       "      <td>True</td>\n",
       "      <td>True</td>\n",
       "      <td>False</td>\n",
       "    </tr>\n",
       "    <tr>\n",
       "      <th>4</th>\n",
       "      <td>1227863</td>\n",
       "      <td>1053887</td>\n",
       "      <td>22312</td>\n",
       "      <td>121</td>\n",
       "      <td>3</td>\n",
       "      <td>2005</td>\n",
       "      <td>2286.0</td>\n",
       "      <td>2</td>\n",
       "      <td>566</td>\n",
       "      <td>196</td>\n",
       "      <td>...</td>\n",
       "      <td>True</td>\n",
       "      <td>True</td>\n",
       "      <td>True</td>\n",
       "      <td>True</td>\n",
       "      <td>False</td>\n",
       "      <td>False</td>\n",
       "      <td>False</td>\n",
       "      <td>True</td>\n",
       "      <td>True</td>\n",
       "      <td>False</td>\n",
       "    </tr>\n",
       "  </tbody>\n",
       "</table>\n",
       "<p>5 rows × 102 columns</p>\n",
       "</div>"
      ],
      "text/plain": [
       "   SalesID  MachineID  ModelID  datasource  auctioneerID  YearMade  \\\n",
       "0  1227829    1006309     3168         121             3      1999   \n",
       "1  1227844    1022817     7271         121             3      1000   \n",
       "2  1227847    1031560    22805         121             3      2004   \n",
       "3  1227848      56204     1269         121             3      2006   \n",
       "4  1227863    1053887    22312         121             3      2005   \n",
       "\n",
       "   MachineHoursCurrentMeter  UsageBand  fiModelDesc  fiBaseModel  ...  \\\n",
       "0                    3688.0          2          499          180  ...   \n",
       "1                   28555.0          1          831          292  ...   \n",
       "2                    6038.0          3         1177          404  ...   \n",
       "3                    8940.0          1          287          113  ...   \n",
       "4                    2286.0          2          566          196  ...   \n",
       "\n",
       "   Stick_Length_is_missing  Thumb_is_missing  Pattern_Changer_is_missing  \\\n",
       "0                     True              True                        True   \n",
       "1                     True              True                        True   \n",
       "2                    False             False                       False   \n",
       "3                    False             False                       False   \n",
       "4                     True              True                        True   \n",
       "\n",
       "   Grouser_Type_is_missing  Backhoe_Mounting_is_missing  \\\n",
       "0                     True                         True   \n",
       "1                     True                         True   \n",
       "2                    False                         True   \n",
       "3                    False                         True   \n",
       "4                     True                        False   \n",
       "\n",
       "   Blade_Type_is_missing  Travel_Controls_is_missing  \\\n",
       "0                   True                        True   \n",
       "1                   True                        True   \n",
       "2                   True                        True   \n",
       "3                   True                        True   \n",
       "4                  False                       False   \n",
       "\n",
       "   Differential_Type_is_missing  Steering_Controls_is_missing  \\\n",
       "0                          True                          True   \n",
       "1                         False                         False   \n",
       "2                          True                          True   \n",
       "3                          True                          True   \n",
       "4                          True                          True   \n",
       "\n",
       "   auctioneerID_is_missing  \n",
       "0                    False  \n",
       "1                    False  \n",
       "2                    False  \n",
       "3                    False  \n",
       "4                    False  \n",
       "\n",
       "[5 rows x 102 columns]"
      ]
     },
     "execution_count": 73,
     "metadata": {},
     "output_type": "execute_result"
    }
   ],
   "source": [
    "# Match test dataset columns to training dataset\n",
    "df_test[\"auctioneerID_is_missing\"] = False\n",
    "df_test.head()"
   ]
  },
  {
   "cell_type": "code",
   "execution_count": 74,
   "id": "0fd3ae7d",
   "metadata": {},
   "outputs": [
    {
     "name": "stdout",
     "output_type": "stream",
     "text": [
      "<class 'pandas.core.frame.DataFrame'>\n",
      "RangeIndex: 12457 entries, 0 to 12456\n",
      "Columns: 102 entries, SalesID to auctioneerID_is_missing\n",
      "dtypes: bool(46), float64(1), int16(2), int64(11), int8(42)\n",
      "memory usage: 2.2 MB\n"
     ]
    }
   ],
   "source": [
    "df_test.info()"
   ]
  },
  {
   "cell_type": "code",
   "execution_count": 75,
   "id": "2786eaf5",
   "metadata": {},
   "outputs": [],
   "source": [
    "test_preds = ideal_model.predict(df_test)"
   ]
  },
  {
   "cell_type": "markdown",
   "id": "175d5ace",
   "metadata": {},
   "source": [
    "When looking at the Kaggle submission requirements, we see that if we wanted to make a submission, the data is required to be in a certain format. Namely, a DataFrame containing the SalesID and the predicted SalePrice of the bulldozer."
   ]
  },
  {
   "cell_type": "code",
   "execution_count": 76,
   "id": "135484a5",
   "metadata": {},
   "outputs": [
    {
     "data": {
      "text/html": [
       "<div>\n",
       "<style scoped>\n",
       "    .dataframe tbody tr th:only-of-type {\n",
       "        vertical-align: middle;\n",
       "    }\n",
       "\n",
       "    .dataframe tbody tr th {\n",
       "        vertical-align: top;\n",
       "    }\n",
       "\n",
       "    .dataframe thead th {\n",
       "        text-align: right;\n",
       "    }\n",
       "</style>\n",
       "<table border=\"1\" class=\"dataframe\">\n",
       "  <thead>\n",
       "    <tr style=\"text-align: right;\">\n",
       "      <th></th>\n",
       "      <th>SalesID</th>\n",
       "      <th>SalePrice</th>\n",
       "    </tr>\n",
       "  </thead>\n",
       "  <tbody>\n",
       "    <tr>\n",
       "      <th>0</th>\n",
       "      <td>1227829</td>\n",
       "      <td>21532.059997</td>\n",
       "    </tr>\n",
       "    <tr>\n",
       "      <th>1</th>\n",
       "      <td>1227844</td>\n",
       "      <td>18164.311391</td>\n",
       "    </tr>\n",
       "    <tr>\n",
       "      <th>2</th>\n",
       "      <td>1227847</td>\n",
       "      <td>50362.154118</td>\n",
       "    </tr>\n",
       "    <tr>\n",
       "      <th>3</th>\n",
       "      <td>1227848</td>\n",
       "      <td>61700.189549</td>\n",
       "    </tr>\n",
       "    <tr>\n",
       "      <th>4</th>\n",
       "      <td>1227863</td>\n",
       "      <td>44245.196058</td>\n",
       "    </tr>\n",
       "    <tr>\n",
       "      <th>...</th>\n",
       "      <td>...</td>\n",
       "      <td>...</td>\n",
       "    </tr>\n",
       "    <tr>\n",
       "      <th>12452</th>\n",
       "      <td>6643171</td>\n",
       "      <td>47347.629244</td>\n",
       "    </tr>\n",
       "    <tr>\n",
       "      <th>12453</th>\n",
       "      <td>6643173</td>\n",
       "      <td>12511.099813</td>\n",
       "    </tr>\n",
       "    <tr>\n",
       "      <th>12454</th>\n",
       "      <td>6643184</td>\n",
       "      <td>13160.817181</td>\n",
       "    </tr>\n",
       "    <tr>\n",
       "      <th>12455</th>\n",
       "      <td>6643186</td>\n",
       "      <td>19210.455348</td>\n",
       "    </tr>\n",
       "    <tr>\n",
       "      <th>12456</th>\n",
       "      <td>6643196</td>\n",
       "      <td>26093.639199</td>\n",
       "    </tr>\n",
       "  </tbody>\n",
       "</table>\n",
       "<p>12457 rows × 2 columns</p>\n",
       "</div>"
      ],
      "text/plain": [
       "       SalesID     SalePrice\n",
       "0      1227829  21532.059997\n",
       "1      1227844  18164.311391\n",
       "2      1227847  50362.154118\n",
       "3      1227848  61700.189549\n",
       "4      1227863  44245.196058\n",
       "...        ...           ...\n",
       "12452  6643171  47347.629244\n",
       "12453  6643173  12511.099813\n",
       "12454  6643184  13160.817181\n",
       "12455  6643186  19210.455348\n",
       "12456  6643196  26093.639199\n",
       "\n",
       "[12457 rows x 2 columns]"
      ]
     },
     "execution_count": 76,
     "metadata": {},
     "output_type": "execute_result"
    }
   ],
   "source": [
    "# Create DataFrame compatible with Kaggle submission requirements\n",
    "df_preds = pd.DataFrame()\n",
    "df_preds[\"SalesID\"] = df_test[\"SalesID\"]\n",
    "df_preds[\"SalePrice\"] = test_preds\n",
    "df_preds"
   ]
  },
  {
   "cell_type": "code",
   "execution_count": 77,
   "id": "8b7f017e",
   "metadata": {},
   "outputs": [],
   "source": [
    "\n",
    "# Export to csv...\n",
    "#df_preds.to_csv(\"bluebook-for-bulldozers/predictions.csv\",\n",
    "#                index=False)"
   ]
  },
  {
   "cell_type": "markdown",
   "id": "d27decce",
   "metadata": {},
   "source": [
    "### Feature Importance\n",
    "\n",
    "Feature importance seeks to figure out which different attributes of the data were most important when it comes to predicting the target variable.\n",
    "\n",
    "In our case, after our model learned the patterns in the data, which bulldozer sale attributes were most important for predicting its overall sale price?\n",
    "\n",
    "Beware: the default feature importances for random forests can lead to non-ideal results.\n",
    "\n",
    "To find which features were most important of a machine learning model, a good idea is to search something like \"[MODEL NAME] feature importance\".\n",
    "\n",
    "Doing this for our RandomForestRegressor leads us to find the feature_importances_ attribute."
   ]
  },
  {
   "cell_type": "code",
   "execution_count": 78,
   "id": "541afe06",
   "metadata": {},
   "outputs": [
    {
     "data": {
      "text/plain": [
       "array([3.37907520e-02, 1.53358228e-02, 4.58328717e-02, 1.85255919e-03,\n",
       "       3.36355194e-03, 2.06877645e-01, 3.25920657e-03, 9.99421433e-04,\n",
       "       4.34570073e-02, 5.09882191e-02, 6.21068630e-02, 4.61943082e-03,\n",
       "       1.67683523e-02, 1.58996374e-01, 4.13243028e-02, 5.93157787e-03,\n",
       "       3.86414978e-03, 2.20490118e-03, 3.35829302e-03, 5.88959881e-02,\n",
       "       4.92707759e-04, 8.80797373e-04, 8.94520763e-04, 1.73080317e-04,\n",
       "       1.16004728e-03, 2.25669083e-05, 2.22088343e-03, 6.58195112e-03,\n",
       "       1.34296117e-03, 1.00651420e-03, 4.96235880e-03, 3.67365837e-03,\n",
       "       4.20772114e-03, 4.58599290e-04, 5.68109403e-04, 8.05753328e-03,\n",
       "       8.38972732e-04, 1.33544004e-02, 2.86786939e-03, 8.06698320e-04,\n",
       "       8.57500650e-04, 9.50732348e-04, 3.14340447e-03, 6.85801329e-04,\n",
       "       6.03544083e-04, 3.70194454e-04, 3.44256665e-04, 2.06820885e-03,\n",
       "       9.34497049e-04, 2.83952570e-04, 2.74956701e-04, 7.31542663e-02,\n",
       "       3.80697200e-03, 5.63271135e-03, 2.90262792e-03, 9.91707470e-03,\n",
       "       2.52372093e-04, 1.31029089e-03, 4.94656519e-04, 0.00000000e+00,\n",
       "       0.00000000e+00, 2.52386558e-03, 1.35163840e-03, 6.51327104e-03,\n",
       "       2.62735140e-02, 0.00000000e+00, 0.00000000e+00, 0.00000000e+00,\n",
       "       0.00000000e+00, 1.67679525e-05, 6.97954155e-06, 1.50897018e-04,\n",
       "       3.63808954e-06, 8.80902597e-05, 4.64922276e-05, 1.99914006e-04,\n",
       "       3.95496301e-04, 9.15584517e-04, 8.88468649e-04, 1.85516926e-03,\n",
       "       3.77936392e-03, 2.99567967e-03, 2.05464334e-03, 1.55297237e-03,\n",
       "       9.95380947e-04, 9.27948873e-04, 2.13934364e-03, 1.73657099e-04,\n",
       "       1.08618934e-02, 1.48047392e-03, 3.86116236e-03, 1.20742084e-04,\n",
       "       1.15579141e-04, 5.83890731e-05, 4.17857200e-05, 4.72788219e-05,\n",
       "       6.42192110e-05, 5.47403454e-04, 1.83207256e-04, 1.28407516e-04,\n",
       "       1.22636012e-04, 1.30782951e-04])"
      ]
     },
     "execution_count": 78,
     "metadata": {},
     "output_type": "execute_result"
    }
   ],
   "source": [
    "# Find feature importance of our best model\n",
    "ideal_model.feature_importances_"
   ]
  },
  {
   "cell_type": "code",
   "execution_count": 79,
   "id": "3db24732",
   "metadata": {},
   "outputs": [],
   "source": [
    "import seaborn as sns\n",
    "\n",
    "# Helper function for plotting feature importance\n",
    "def plot_features(columns, importances, n=20):\n",
    "    df = (pd.DataFrame({\"features\": columns,\n",
    "                        \"feature_importance\": importances})\n",
    "          .sort_values(\"feature_importance\", ascending=False)\n",
    "          .reset_index(drop=True))\n",
    "    \n",
    "    sns.barplot(x=\"feature_importance\",\n",
    "                y=\"features\",\n",
    "                data=df[:n],\n",
    "                orient=\"h\")"
   ]
  },
  {
   "cell_type": "code",
   "execution_count": 80,
   "id": "d443c8c3",
   "metadata": {},
   "outputs": [
    {
     "data": {
      "image/png": "[encoded data removed]",
      "text/plain": [
       "<Figure size 432x288 with 1 Axes>"
      ]
     },
     "metadata": {
      "needs_background": "light"
     },
     "output_type": "display_data"
    }
   ],
   "source": [
    "plot_features(X_train.columns, ideal_model.feature_importances_)"
   ]
  },
  {
   "cell_type": "code",
   "execution_count": 81,
   "id": "6c1422a2",
   "metadata": {},
   "outputs": [
    {
     "data": {
      "text/plain": [
       "Medium            64342\n",
       "Large / Medium    51297\n",
       "Small             27057\n",
       "Mini              25721\n",
       "Large             21396\n",
       "Compact            6280\n",
       "Name: ProductSize, dtype: int64"
      ]
     },
     "execution_count": 81,
     "metadata": {},
     "output_type": "execute_result"
    }
   ],
   "source": [
    "df.ProductSize.value_counts()"
   ]
  },
  {
   "cell_type": "code",
   "execution_count": 82,
   "id": "987dcfd4",
   "metadata": {},
   "outputs": [
    {
     "data": {
      "text/plain": [
       "None or Unspecified    77111\n",
       "Yes                     3985\n",
       "Name: Turbocharged, dtype: int64"
      ]
     },
     "execution_count": 82,
     "metadata": {},
     "output_type": "execute_result"
    }
   ],
   "source": [
    "df.Turbocharged.value_counts()"
   ]
  },
  {
   "cell_type": "code",
   "execution_count": 83,
   "id": "c04014c0",
   "metadata": {},
   "outputs": [
    {
     "data": {
      "text/plain": [
       "None or Unspecified    85074\n",
       "Manual                  9678\n",
       "Hydraulic               7580\n",
       "Name: Thumb, dtype: int64"
      ]
     },
     "execution_count": 83,
     "metadata": {},
     "output_type": "execute_result"
    }
   ],
   "source": [
    "df.Thumb.value_counts()"
   ]
  },
  {
   "cell_type": "code",
   "execution_count": null,
   "id": "8f699a08",
   "metadata": {},
   "outputs": [],
   "source": []
  }
 ],
 "metadata": {
  "kernelspec": {
   "display_name": "Python 3",
   "language": "python",
   "name": "python3"
  },
  "language_info": {
   "codemirror_mode": {
    "name": "ipython",
    "version": 3
   },
   "file_extension": ".py",
   "mimetype": "text/x-python",
   "name": "python",
   "nbconvert_exporter": "python",
   "pygments_lexer": "ipython3",
   "version": "3.9.5"
  }
 },
 "nbformat": 4,
 "nbformat_minor": 5
}
